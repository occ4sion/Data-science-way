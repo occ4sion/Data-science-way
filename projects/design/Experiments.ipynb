{
 "cells": [
  {
   "cell_type": "code",
   "execution_count": 11,
   "metadata": {},
   "outputs": [],
   "source": [
    "class BinaryTree:\n",
    "    def __init__(self, value):\n",
    "        self.value = value\n",
    "        self.LTree = None\n",
    "        self.RTree = None\n",
    "        \n",
    "    def _add(self, tree, value):\n",
    "        if tree:\n",
    "            tree.add(value)\n",
    "        else:\n",
    "            tree = BinaryTree(value)\n",
    "        return tree\n",
    "            \n",
    "    def add(self, value): \n",
    "        if value > self.value:\n",
    "            self.RTree = self._add(self.RTree, value)\n",
    "        elif value < self.value:\n",
    "            self.LTree = self._add(self.LTree, value)\n",
    "            \n",
    "    def out(self):\n",
    "        if self.LTree:\n",
    "            self.LTree.out()\n",
    "        if self.RTree:\n",
    "            self.RTree.out()\n",
    "        print(self.value)"
   ]
  },
  {
   "cell_type": "code",
   "execution_count": 1,
   "metadata": {},
   "outputs": [],
   "source": [
    "import random\n",
    "import numpy as np"
   ]
  },
  {
   "cell_type": "code",
   "execution_count": 16,
   "metadata": {},
   "outputs": [
    {
     "name": "stdout",
     "output_type": "stream",
     "text": [
      "Wall time: 1.4 s\n"
     ]
    }
   ],
   "source": [
    "%%time\n",
    "tree = BinaryTree(782)\n",
    "for i in range(100000):\n",
    "    tree.add(random.randint(-10000000,10000000))\n",
    "#tree.out()"
   ]
  },
  {
   "cell_type": "code",
   "execution_count": null,
   "metadata": {},
   "outputs": [],
   "source": [
    "class DecisionTree : BinaryTree\n",
    "    def __init__(self):\n",
    "        super.__init__(self)\n",
    "        self.X = None\n",
    "        self.y = None\n",
    "    \n",
    "    def IGini(self, feature):\n",
    "        Gini = lambda target: sum([y == 1 for y in target])\n",
    "        for index, _ in enumerate(feature):\n",
    "            left, right = feature[:index], feature[index:]\n",
    "            max = (len(left) / len(feature)) * Gini(left)\n",
    "            + (len(right) / len(feature)) * Gini(right)\n",
    "        \n",
    "    def fit(self, X, y):\n",
    "        for feature in X: ## in sorted X\n",
    "            IGain(feature)"
   ]
  },
  {
   "cell_type": "code",
   "execution_count": 58,
   "metadata": {},
   "outputs": [],
   "source": [
    "X = np.ndarray([10,8])"
   ]
  },
  {
   "cell_type": "code",
   "execution_count": 78,
   "metadata": {},
   "outputs": [
    {
     "data": {
      "text/plain": [
       "array([ 2.54034661e+151,  2.57408076e+151,  6.96225610e-305,\n",
       "       -3.38460910e+125,  1.03156610e+113,  3.03470791e-298,\n",
       "        3.69825575e+183,  4.81227688e+233])"
      ]
     },
     "execution_count": 78,
     "metadata": {},
     "output_type": "execute_result"
    }
   ],
   "source": [
    "X[0][:]"
   ]
  },
  {
   "cell_type": "code",
   "execution_count": 60,
   "metadata": {},
   "outputs": [
    {
     "data": {
      "text/plain": [
       "array([[ 2.54034661e+151,  2.57408076e+151,  6.96225610e-305,\n",
       "        -3.38460910e+125,  1.03156610e+113,  3.03470791e-298,\n",
       "         3.69825575e+183,  4.81227688e+233],\n",
       "       [ 1.33360385e+241,  1.06171937e-309,  1.32151025e-186,\n",
       "         1.19770240e-315,  2.31581859e-289,  2.62011568e+063,\n",
       "         9.04067648e+223,  2.55172779e+151],\n",
       "       [ 2.57408076e+151,  1.75393304e-321,  1.08646185e-311,\n",
       "         1.45314272e-308,  5.83336934e-302,  8.36749582e-085,\n",
       "         2.64685961e+180,  3.98210433e+209],\n",
       "       [ 1.57262256e-118,  3.06250777e+257,  5.98150353e-154,\n",
       "        -1.24557420e+012,  2.83556550e-302,  1.71359658e-309,\n",
       "        -1.23695058e+012,  4.14734130e-312],\n",
       "       [ 3.53208746e-308,  3.13151306e-294,  4.23820020e+175,\n",
       "         6.96055573e+252,  1.29173211e+171,  5.06769522e-314,\n",
       "         4.24399158e-314,  1.42173718e-312],\n",
       "       [ 6.71585298e+091,  1.05629353e-309,  6.69373695e-312,\n",
       "         5.25339938e-305,  1.33360385e+241,  2.53938761e+151,\n",
       "         3.53609246e-308,  7.29112202e-304],\n",
       "       [ 4.23820020e+175,  6.96055573e+252,  2.57281955e+151,\n",
       "         1.75393304e-321,  5.43230923e-312,  6.18740021e-309,\n",
       "         4.55718212e-303,  3.03574727e-152],\n",
       "       [ 7.71468495e-090,  1.46922889e+195,  4.23820020e+175,\n",
       "         6.96055573e+252,  2.43567348e-152,  1.36722783e+161,\n",
       "         1.05628975e-309,  6.69373728e-312],\n",
       "       [ 3.41885268e-302,  1.33360385e+241,  1.06171937e-309,\n",
       "         5.51586884e-186,  2.03016870e-316,  3.55959754e+180,\n",
       "         5.04758709e+223,  5.67960086e-302],\n",
       "       [ 7.29112202e-304,  5.62949956e+014,  9.44122346e-314,\n",
       "         4.00141303e+242,  2.38287995e-022,  4.12612135e-312,\n",
       "         5.53820883e-305,  3.67141417e+228]])"
      ]
     },
     "execution_count": 60,
     "metadata": {},
     "output_type": "execute_result"
    }
   ],
   "source": [
    "X"
   ]
  },
  {
   "cell_type": "code",
   "execution_count": 1,
   "metadata": {},
   "outputs": [],
   "source": [
    "import urllib.request\n",
    "import re\n",
    "import pandas as pd\n",
    "import numpy as np"
   ]
  },
  {
   "cell_type": "code",
   "execution_count": 32,
   "metadata": {},
   "outputs": [],
   "source": [
    "with urllib.request.urlopen('https://eralash.ru/library/1974/1') as response:\n",
    "   html = response.read()\n",
    "html = html.decode()"
   ]
  },
  {
   "cell_type": "code",
   "execution_count": 34,
   "metadata": {},
   "outputs": [
    {
     "data": {
      "text/plain": [
       "'/ foaf: http://xmlns.com/foaf/0.1/ rdfs: http://www.w3.org/2000/01/rdf-schema# sioc: http://rdfs.org/sioc/ns# sioct: http://rdfs.org/sioc/types# skos: http://www.w3.org/2004/02/skos/core# xsd: http://www.w3.org/2001/XMLSchema#\"><!--<![endif]-->\\n<head>\\n<link rel=\"apple-touch-icon\" sizes=\"180x180\" hre'"
      ]
     },
     "execution_count": 34,
     "metadata": {},
     "output_type": "execute_result"
    }
   ],
   "source": [
    "html[400:700]"
   ]
  },
  {
   "cell_type": "code",
   "execution_count": 45,
   "metadata": {},
   "outputs": [
    {
     "data": {
      "text/plain": [
       "['<div class=\"field-content\"><strong>Описание:</strong> История о том, как мальчик испачкал нос в чернилах и как на это отреагировали его одноклассники (по стихотворению А. Барто).</div>  </div>  </div>',\n",
       " '<div class=\"field-content\"><strong>Описание:</strong> Мальчик едет в лифте с соседом. И рассказывает ему историю про велосипед на «своем» языке (Как Фитиль облапошил Шнобеля). Затем мужчина спрашивает у мальчика, что он проходит по литературе. Узнав, что мальчик изучает Гоголя, его сосед процитировал одно из произведений на языке «молодежи».</div>  </div>  </div>',\n",
       " '<div class=\"field-content\"><strong>Описание:</strong> Из окна школы валит дым. Дети выбегают на улицу. Случайный прохожий вызывает пожарных. Оказывается, никакого пожара не было – это в туалете курят ребята. Пожарный падает в обморок от густого дыма и один из заядлых курильщиков говорит:  «Слабак! Сразу видно – некурящий!»</div>  </div>  </div>']"
      ]
     },
     "execution_count": 45,
     "metadata": {},
     "output_type": "execute_result"
    }
   ],
   "source": [
    "re.findall('<div class=\"field-content\"><strong>Описание:</strong>.+</div>',html)"
   ]
  },
  {
   "cell_type": "code",
   "execution_count": 46,
   "metadata": {},
   "outputs": [
    {
     "data": {
      "text/plain": [
       "['<span class=\"field-content\"><h2>Сюжет № 1  \"Позорное пятно\"</h2></span>',\n",
       " '<span class=\"field-content\"><h2>Сюжет № 2  \"Почему мы так говорим?\"</h2></span>',\n",
       " '<span class=\"field-content\"><h2>Сюжет № 3  \"Дым, дым, дым\"</h2></span>']"
      ]
     },
     "execution_count": 46,
     "metadata": {},
     "output_type": "execute_result"
    }
   ],
   "source": [
    "re.findall('<span class=\"field-content\"><h2>.+</h2></span>',html)"
   ]
  },
  {
   "cell_type": "code",
   "execution_count": 87,
   "metadata": {},
   "outputs": [],
   "source": [
    "desc = []\n",
    "for string in re.findall('<span class=\"field-content\"><h2>.+</h2></span>',html):\n",
    "    string = re.sub(\n",
    "        r'<.*>Сюжет № \\d+', \"\",\n",
    "        string\n",
    "    )\n",
    "    string = re.sub(\n",
    "        r'</.*>', \"\",\n",
    "        string\n",
    "    )\n",
    "    desc.append(string[3:-1])"
   ]
  },
  {
   "cell_type": "code",
   "execution_count": 88,
   "metadata": {},
   "outputs": [
    {
     "data": {
      "text/plain": [
       "['Позорное пятно', 'Почему мы так говорим?', 'Дым, дым, дым']"
      ]
     },
     "execution_count": 88,
     "metadata": {},
     "output_type": "execute_result"
    }
   ],
   "source": [
    "desc"
   ]
  },
  {
   "cell_type": "code",
   "execution_count": 93,
   "metadata": {},
   "outputs": [],
   "source": [
    "series = []\n",
    "for string in re.findall('<div class=\"field-content\"><strong>Описание:</strong>.+</div>',html):\n",
    "    string = re.sub(\n",
    "        r'<.*>Описание:</strong>', \"\",\n",
    "        string\n",
    "    )\n",
    "    string = re.sub(\n",
    "        r'</.*>', \"\",\n",
    "        string\n",
    "    )\n",
    "    series.append(string[1:-1])"
   ]
  },
  {
   "cell_type": "code",
   "execution_count": 94,
   "metadata": {},
   "outputs": [
    {
     "data": {
      "text/plain": [
       "['История о том, как мальчик испачкал нос в чернилах и как на это отреагировали его одноклассники (по стихотворению А. Барто)',\n",
       " 'Мальчик едет в лифте с соседом. И рассказывает ему историю про велосипед на «своем» языке (Как Фитиль облапошил Шнобеля). Затем мужчина спрашивает у мальчика, что он проходит по литературе. Узнав, что мальчик изучает Гоголя, его сосед процитировал одно из произведений на языке «молодежи»',\n",
       " 'Из окна школы валит дым. Дети выбегают на улицу. Случайный прохожий вызывает пожарных. Оказывается, никакого пожара не было – это в туалете курят ребята. Пожарный падает в обморок от густого дыма и один из заядлых курильщиков говорит:  «Слабак! Сразу видно – некурящий!']"
      ]
     },
     "execution_count": 94,
     "metadata": {},
     "output_type": "execute_result"
    }
   ],
   "source": [
    "series"
   ]
  },
  {
   "cell_type": "code",
   "execution_count": 95,
   "metadata": {},
   "outputs": [],
   "source": [
    "## https://eralash.ru/library/anthology"
   ]
  },
  {
   "cell_type": "code",
   "execution_count": 111,
   "metadata": {},
   "outputs": [],
   "source": [
    "def parse(url: str, year: int):\n",
    "    with urllib.request.urlopen(url) as response:\n",
    "        html = response.read()\n",
    "    html = html.decode()\n",
    "    desc = []\n",
    "    for string in re.findall('<span class=\"field-content\"><h2>.+</h2></span>',html):\n",
    "        string = re.sub(\n",
    "            r'<.*>Сюжет № \\d+', \"\",\n",
    "            string\n",
    "        )\n",
    "        string = re.sub(\n",
    "            r'</.*>', \"\",\n",
    "            string\n",
    "        )\n",
    "        desc.append(string)\n",
    "    series = []\n",
    "    for string in re.findall(r'''<div class=\"views-field views-field-field-video\">.*<div class=\"field-content\">.*<strong>.*</strong>.*</div>''',html):\n",
    "        print(string)\n",
    "        string = re.sub(\n",
    "            r'<.*>.*:</strong>', \"\",\n",
    "            string\n",
    "        )\n",
    "        string = re.sub(\n",
    "            r'</.*>', \"\",\n",
    "            string\n",
    "        )\n",
    "        series.append(string)\n",
    "    print(np.array([desc, series, [str(year)]*len(desc)]))\n",
    "    #return pd.DataFrame(np.array([desc, series, [str(year)]*len(desc)]).T,columns = ['Название','Описание','Год'])"
   ]
  },
  {
   "cell_type": "code",
   "execution_count": 112,
   "metadata": {},
   "outputs": [
    {
     "name": "stdout",
     "output_type": "stream",
     "text": [
      "<div class=\"field-content\"><strong>Описание:</strong> Совсем коротенькая история из бесконечной игры «Почемучки»</div>  </div>  </div>\n",
      "<div class=\"field-content\"><strong>Описание:</strong> Вполне правдоподобная беседа у памятника писателю-классику </div>  </div>  </div>\n",
      "<div class=\"field-content\"><strong>Описание:</strong> Приключение, из которого выясняется, что при случае помочь человеку не каждый может</div>  </div>  </div>\n",
      "<div class=\"field-content\"><strong>Описание:</strong> Забавная история о том, как хорошо быть находчивым, когда пропускаешь школу</div>  </div>  </div>\n",
      "<div class=\"field-content\"><strong>Описание:</strong> СЕРЕНАДА</div>  </div>  </div>\n",
      "[list(['  \"Почему?\"', '  \"Ну и дела!\"', '  \"Самый умный\"', '  \"Помогите!\"', '  \"Кто там?\"', '  \"Серенада\"'])\n",
      " list([' Совсем коротенькая история из бесконечной игры «Почемучки»', ' Вполне правдоподобная беседа у памятника писателю-классику ', ' Приключение, из которого выясняется, что при случае помочь человеку не каждый может', ' Забавная история о том, как хорошо быть находчивым, когда пропускаешь школу', ' СЕРЕНАДА'])\n",
      " list(['1981', '1981', '1981', '1981', '1981', '1981'])]\n"
     ]
    },
    {
     "name": "stderr",
     "output_type": "stream",
     "text": [
      "c:\\program files (x86)\\microsoft visual studio\\shared\\python37_64\\lib\\site-packages\\ipykernel_launcher.py:28: VisibleDeprecationWarning: Creating an ndarray from ragged nested sequences (which is a list-or-tuple of lists-or-tuples-or ndarrays with different lengths or shapes) is deprecated. If you meant to do this, you must specify 'dtype=object' when creating the ndarray\n"
     ]
    }
   ],
   "source": [
    "parse(f'http://eralash.ru/library/{page}/{index}', page)"
   ]
  },
  {
   "cell_type": "code",
   "execution_count": 12,
   "metadata": {},
   "outputs": [
    {
     "name": "stdout",
     "output_type": "stream",
     "text": [
      "1981 29\n"
     ]
    },
    {
     "name": "stderr",
     "output_type": "stream",
     "text": [
      "c:\\program files (x86)\\microsoft visual studio\\shared\\python37_64\\lib\\site-packages\\ipykernel_launcher.py:27: VisibleDeprecationWarning: Creating an ndarray from ragged nested sequences (which is a list-or-tuple of lists-or-tuples-or ndarrays with different lengths or shapes) is deprecated. If you meant to do this, you must specify 'dtype=object' when creating the ndarray\n"
     ]
    },
    {
     "ename": "ValueError",
     "evalue": "Shape of passed values is (3, 1), indices imply (3, 3)",
     "output_type": "error",
     "traceback": [
      "\u001b[1;31m---------------------------------------------------------------------------\u001b[0m",
      "\u001b[1;31mValueError\u001b[0m                                Traceback (most recent call last)",
      "\u001b[1;32mc:\\program files (x86)\\microsoft visual studio\\shared\\python37_64\\lib\\site-packages\\pandas\\core\\internals\\managers.py\u001b[0m in \u001b[0;36mcreate_block_manager_from_blocks\u001b[1;34m(blocks, axes)\u001b[0m\n\u001b[0;32m   1628\u001b[0m                 blocks = [\n\u001b[1;32m-> 1629\u001b[1;33m                     \u001b[0mmake_block\u001b[0m\u001b[1;33m(\u001b[0m\u001b[0mvalues\u001b[0m\u001b[1;33m=\u001b[0m\u001b[0mblocks\u001b[0m\u001b[1;33m[\u001b[0m\u001b[1;36m0\u001b[0m\u001b[1;33m]\u001b[0m\u001b[1;33m,\u001b[0m \u001b[0mplacement\u001b[0m\u001b[1;33m=\u001b[0m\u001b[0mslice\u001b[0m\u001b[1;33m(\u001b[0m\u001b[1;36m0\u001b[0m\u001b[1;33m,\u001b[0m \u001b[0mlen\u001b[0m\u001b[1;33m(\u001b[0m\u001b[0maxes\u001b[0m\u001b[1;33m[\u001b[0m\u001b[1;36m0\u001b[0m\u001b[1;33m]\u001b[0m\u001b[1;33m)\u001b[0m\u001b[1;33m)\u001b[0m\u001b[1;33m)\u001b[0m\u001b[1;33m\u001b[0m\u001b[1;33m\u001b[0m\u001b[0m\n\u001b[0m\u001b[0;32m   1630\u001b[0m                 ]\n",
      "\u001b[1;32mc:\\program files (x86)\\microsoft visual studio\\shared\\python37_64\\lib\\site-packages\\pandas\\core\\internals\\blocks.py\u001b[0m in \u001b[0;36mmake_block\u001b[1;34m(values, placement, klass, ndim, dtype)\u001b[0m\n\u001b[0;32m   2716\u001b[0m \u001b[1;33m\u001b[0m\u001b[0m\n\u001b[1;32m-> 2717\u001b[1;33m     \u001b[1;32mreturn\u001b[0m \u001b[0mklass\u001b[0m\u001b[1;33m(\u001b[0m\u001b[0mvalues\u001b[0m\u001b[1;33m,\u001b[0m \u001b[0mndim\u001b[0m\u001b[1;33m=\u001b[0m\u001b[0mndim\u001b[0m\u001b[1;33m,\u001b[0m \u001b[0mplacement\u001b[0m\u001b[1;33m=\u001b[0m\u001b[0mplacement\u001b[0m\u001b[1;33m)\u001b[0m\u001b[1;33m\u001b[0m\u001b[1;33m\u001b[0m\u001b[0m\n\u001b[0m\u001b[0;32m   2718\u001b[0m \u001b[1;33m\u001b[0m\u001b[0m\n",
      "\u001b[1;32mc:\\program files (x86)\\microsoft visual studio\\shared\\python37_64\\lib\\site-packages\\pandas\\core\\internals\\blocks.py\u001b[0m in \u001b[0;36m__init__\u001b[1;34m(self, values, placement, ndim)\u001b[0m\n\u001b[0;32m   2371\u001b[0m \u001b[1;33m\u001b[0m\u001b[0m\n\u001b[1;32m-> 2372\u001b[1;33m         \u001b[0msuper\u001b[0m\u001b[1;33m(\u001b[0m\u001b[1;33m)\u001b[0m\u001b[1;33m.\u001b[0m\u001b[0m__init__\u001b[0m\u001b[1;33m(\u001b[0m\u001b[0mvalues\u001b[0m\u001b[1;33m,\u001b[0m \u001b[0mndim\u001b[0m\u001b[1;33m=\u001b[0m\u001b[0mndim\u001b[0m\u001b[1;33m,\u001b[0m \u001b[0mplacement\u001b[0m\u001b[1;33m=\u001b[0m\u001b[0mplacement\u001b[0m\u001b[1;33m)\u001b[0m\u001b[1;33m\u001b[0m\u001b[1;33m\u001b[0m\u001b[0m\n\u001b[0m\u001b[0;32m   2373\u001b[0m \u001b[1;33m\u001b[0m\u001b[0m\n",
      "\u001b[1;32mc:\\program files (x86)\\microsoft visual studio\\shared\\python37_64\\lib\\site-packages\\pandas\\core\\internals\\blocks.py\u001b[0m in \u001b[0;36m__init__\u001b[1;34m(self, values, placement, ndim)\u001b[0m\n\u001b[0;32m    130\u001b[0m             raise ValueError(\n\u001b[1;32m--> 131\u001b[1;33m                 \u001b[1;34mf\"Wrong number of items passed {len(self.values)}, \"\u001b[0m\u001b[1;33m\u001b[0m\u001b[1;33m\u001b[0m\u001b[0m\n\u001b[0m\u001b[0;32m    132\u001b[0m                 \u001b[1;34mf\"placement implies {len(self.mgr_locs)}\"\u001b[0m\u001b[1;33m\u001b[0m\u001b[1;33m\u001b[0m\u001b[0m\n",
      "\u001b[1;31mValueError\u001b[0m: Wrong number of items passed 1, placement implies 3",
      "\nDuring handling of the above exception, another exception occurred:\n",
      "\u001b[1;31mValueError\u001b[0m                                Traceback (most recent call last)",
      "\u001b[1;32m<ipython-input-12-23902c495407>\u001b[0m in \u001b[0;36m<module>\u001b[1;34m\u001b[0m\n\u001b[0;32m      5\u001b[0m         \u001b[0mpage\u001b[0m \u001b[1;33m+=\u001b[0m \u001b[1;36m1\u001b[0m\u001b[1;33m\u001b[0m\u001b[1;33m\u001b[0m\u001b[0m\n\u001b[0;32m      6\u001b[0m     \u001b[0mprint\u001b[0m\u001b[1;33m(\u001b[0m\u001b[0mpage\u001b[0m\u001b[1;33m,\u001b[0m\u001b[0mindex\u001b[0m\u001b[1;33m)\u001b[0m\u001b[1;33m\u001b[0m\u001b[1;33m\u001b[0m\u001b[0m\n\u001b[1;32m----> 7\u001b[1;33m     \u001b[0mdf\u001b[0m \u001b[1;33m=\u001b[0m \u001b[0mpd\u001b[0m\u001b[1;33m.\u001b[0m\u001b[0mconcat\u001b[0m\u001b[1;33m(\u001b[0m\u001b[1;33m[\u001b[0m\u001b[0mdf\u001b[0m\u001b[1;33m,\u001b[0m \u001b[0mparse\u001b[0m\u001b[1;33m(\u001b[0m\u001b[1;34mf'http://eralash.ru/library/{page}/{index}'\u001b[0m\u001b[1;33m,\u001b[0m \u001b[0mpage\u001b[0m\u001b[1;33m)\u001b[0m\u001b[1;33m]\u001b[0m\u001b[1;33m)\u001b[0m\u001b[1;33m\u001b[0m\u001b[1;33m\u001b[0m\u001b[0m\n\u001b[0m",
      "\u001b[1;32m<ipython-input-7-fe9dcc11f0ab>\u001b[0m in \u001b[0;36mparse\u001b[1;34m(url, year)\u001b[0m\n\u001b[0;32m     25\u001b[0m         )\n\u001b[0;32m     26\u001b[0m         \u001b[0mseries\u001b[0m\u001b[1;33m.\u001b[0m\u001b[0mappend\u001b[0m\u001b[1;33m(\u001b[0m\u001b[0mstring\u001b[0m\u001b[1;33m[\u001b[0m\u001b[1;36m1\u001b[0m\u001b[1;33m:\u001b[0m\u001b[1;33m-\u001b[0m\u001b[1;36m1\u001b[0m\u001b[1;33m]\u001b[0m\u001b[1;33m)\u001b[0m\u001b[1;33m\u001b[0m\u001b[1;33m\u001b[0m\u001b[0m\n\u001b[1;32m---> 27\u001b[1;33m     \u001b[1;32mreturn\u001b[0m \u001b[0mpd\u001b[0m\u001b[1;33m.\u001b[0m\u001b[0mDataFrame\u001b[0m\u001b[1;33m(\u001b[0m\u001b[0mnp\u001b[0m\u001b[1;33m.\u001b[0m\u001b[0marray\u001b[0m\u001b[1;33m(\u001b[0m\u001b[1;33m[\u001b[0m\u001b[0mdesc\u001b[0m\u001b[1;33m,\u001b[0m \u001b[0mseries\u001b[0m\u001b[1;33m,\u001b[0m \u001b[1;33m[\u001b[0m\u001b[0mstr\u001b[0m\u001b[1;33m(\u001b[0m\u001b[0myear\u001b[0m\u001b[1;33m)\u001b[0m\u001b[1;33m]\u001b[0m\u001b[1;33m*\u001b[0m\u001b[0mlen\u001b[0m\u001b[1;33m(\u001b[0m\u001b[0mdesc\u001b[0m\u001b[1;33m)\u001b[0m\u001b[1;33m]\u001b[0m\u001b[1;33m)\u001b[0m\u001b[1;33m,\u001b[0m\u001b[0mcolumns\u001b[0m \u001b[1;33m=\u001b[0m \u001b[1;33m[\u001b[0m\u001b[1;34m'Название'\u001b[0m\u001b[1;33m,\u001b[0m\u001b[1;34m'Описание'\u001b[0m\u001b[1;33m,\u001b[0m\u001b[1;34m'Год'\u001b[0m\u001b[1;33m]\u001b[0m\u001b[1;33m)\u001b[0m\u001b[1;33m\u001b[0m\u001b[1;33m\u001b[0m\u001b[0m\n\u001b[0m",
      "\u001b[1;32mc:\\program files (x86)\\microsoft visual studio\\shared\\python37_64\\lib\\site-packages\\pandas\\core\\frame.py\u001b[0m in \u001b[0;36m__init__\u001b[1;34m(self, data, index, columns, dtype, copy)\u001b[0m\n\u001b[0;32m    494\u001b[0m                 \u001b[0mmgr\u001b[0m \u001b[1;33m=\u001b[0m \u001b[0minit_dict\u001b[0m\u001b[1;33m(\u001b[0m\u001b[1;33m{\u001b[0m\u001b[0mdata\u001b[0m\u001b[1;33m.\u001b[0m\u001b[0mname\u001b[0m\u001b[1;33m:\u001b[0m \u001b[0mdata\u001b[0m\u001b[1;33m}\u001b[0m\u001b[1;33m,\u001b[0m \u001b[0mindex\u001b[0m\u001b[1;33m,\u001b[0m \u001b[0mcolumns\u001b[0m\u001b[1;33m,\u001b[0m \u001b[0mdtype\u001b[0m\u001b[1;33m=\u001b[0m\u001b[0mdtype\u001b[0m\u001b[1;33m)\u001b[0m\u001b[1;33m\u001b[0m\u001b[1;33m\u001b[0m\u001b[0m\n\u001b[0;32m    495\u001b[0m             \u001b[1;32melse\u001b[0m\u001b[1;33m:\u001b[0m\u001b[1;33m\u001b[0m\u001b[1;33m\u001b[0m\u001b[0m\n\u001b[1;32m--> 496\u001b[1;33m                 \u001b[0mmgr\u001b[0m \u001b[1;33m=\u001b[0m \u001b[0minit_ndarray\u001b[0m\u001b[1;33m(\u001b[0m\u001b[0mdata\u001b[0m\u001b[1;33m,\u001b[0m \u001b[0mindex\u001b[0m\u001b[1;33m,\u001b[0m \u001b[0mcolumns\u001b[0m\u001b[1;33m,\u001b[0m \u001b[0mdtype\u001b[0m\u001b[1;33m=\u001b[0m\u001b[0mdtype\u001b[0m\u001b[1;33m,\u001b[0m \u001b[0mcopy\u001b[0m\u001b[1;33m=\u001b[0m\u001b[0mcopy\u001b[0m\u001b[1;33m)\u001b[0m\u001b[1;33m\u001b[0m\u001b[1;33m\u001b[0m\u001b[0m\n\u001b[0m\u001b[0;32m    497\u001b[0m \u001b[1;33m\u001b[0m\u001b[0m\n\u001b[0;32m    498\u001b[0m         \u001b[1;31m# For data is list-like, or Iterable (will consume into list)\u001b[0m\u001b[1;33m\u001b[0m\u001b[1;33m\u001b[0m\u001b[1;33m\u001b[0m\u001b[0m\n",
      "\u001b[1;32mc:\\program files (x86)\\microsoft visual studio\\shared\\python37_64\\lib\\site-packages\\pandas\\core\\internals\\construction.py\u001b[0m in \u001b[0;36minit_ndarray\u001b[1;34m(values, index, columns, dtype, copy)\u001b[0m\n\u001b[0;32m    232\u001b[0m         \u001b[0mblock_values\u001b[0m \u001b[1;33m=\u001b[0m \u001b[1;33m[\u001b[0m\u001b[0mvalues\u001b[0m\u001b[1;33m]\u001b[0m\u001b[1;33m\u001b[0m\u001b[1;33m\u001b[0m\u001b[0m\n\u001b[0;32m    233\u001b[0m \u001b[1;33m\u001b[0m\u001b[0m\n\u001b[1;32m--> 234\u001b[1;33m     \u001b[1;32mreturn\u001b[0m \u001b[0mcreate_block_manager_from_blocks\u001b[0m\u001b[1;33m(\u001b[0m\u001b[0mblock_values\u001b[0m\u001b[1;33m,\u001b[0m \u001b[1;33m[\u001b[0m\u001b[0mcolumns\u001b[0m\u001b[1;33m,\u001b[0m \u001b[0mindex\u001b[0m\u001b[1;33m]\u001b[0m\u001b[1;33m)\u001b[0m\u001b[1;33m\u001b[0m\u001b[1;33m\u001b[0m\u001b[0m\n\u001b[0m\u001b[0;32m    235\u001b[0m \u001b[1;33m\u001b[0m\u001b[0m\n\u001b[0;32m    236\u001b[0m \u001b[1;33m\u001b[0m\u001b[0m\n",
      "\u001b[1;32mc:\\program files (x86)\\microsoft visual studio\\shared\\python37_64\\lib\\site-packages\\pandas\\core\\internals\\managers.py\u001b[0m in \u001b[0;36mcreate_block_manager_from_blocks\u001b[1;34m(blocks, axes)\u001b[0m\n\u001b[0;32m   1637\u001b[0m         \u001b[0mblocks\u001b[0m \u001b[1;33m=\u001b[0m \u001b[1;33m[\u001b[0m\u001b[0mgetattr\u001b[0m\u001b[1;33m(\u001b[0m\u001b[0mb\u001b[0m\u001b[1;33m,\u001b[0m \u001b[1;34m\"values\"\u001b[0m\u001b[1;33m,\u001b[0m \u001b[0mb\u001b[0m\u001b[1;33m)\u001b[0m \u001b[1;32mfor\u001b[0m \u001b[0mb\u001b[0m \u001b[1;32min\u001b[0m \u001b[0mblocks\u001b[0m\u001b[1;33m]\u001b[0m\u001b[1;33m\u001b[0m\u001b[1;33m\u001b[0m\u001b[0m\n\u001b[0;32m   1638\u001b[0m         \u001b[0mtot_items\u001b[0m \u001b[1;33m=\u001b[0m \u001b[0msum\u001b[0m\u001b[1;33m(\u001b[0m\u001b[0mb\u001b[0m\u001b[1;33m.\u001b[0m\u001b[0mshape\u001b[0m\u001b[1;33m[\u001b[0m\u001b[1;36m0\u001b[0m\u001b[1;33m]\u001b[0m \u001b[1;32mfor\u001b[0m \u001b[0mb\u001b[0m \u001b[1;32min\u001b[0m \u001b[0mblocks\u001b[0m\u001b[1;33m)\u001b[0m\u001b[1;33m\u001b[0m\u001b[1;33m\u001b[0m\u001b[0m\n\u001b[1;32m-> 1639\u001b[1;33m         \u001b[1;32mraise\u001b[0m \u001b[0mconstruction_error\u001b[0m\u001b[1;33m(\u001b[0m\u001b[0mtot_items\u001b[0m\u001b[1;33m,\u001b[0m \u001b[0mblocks\u001b[0m\u001b[1;33m[\u001b[0m\u001b[1;36m0\u001b[0m\u001b[1;33m]\u001b[0m\u001b[1;33m.\u001b[0m\u001b[0mshape\u001b[0m\u001b[1;33m[\u001b[0m\u001b[1;36m1\u001b[0m\u001b[1;33m:\u001b[0m\u001b[1;33m]\u001b[0m\u001b[1;33m,\u001b[0m \u001b[0maxes\u001b[0m\u001b[1;33m,\u001b[0m \u001b[0me\u001b[0m\u001b[1;33m)\u001b[0m\u001b[1;33m\u001b[0m\u001b[1;33m\u001b[0m\u001b[0m\n\u001b[0m\u001b[0;32m   1640\u001b[0m \u001b[1;33m\u001b[0m\u001b[0m\n\u001b[0;32m   1641\u001b[0m \u001b[1;33m\u001b[0m\u001b[0m\n",
      "\u001b[1;31mValueError\u001b[0m: Shape of passed values is (3, 1), indices imply (3, 3)"
     ]
    }
   ],
   "source": [
    "page = 1981\n",
    "df = pd.DataFrame()\n",
    "for index in range(29,342):\n",
    "    while(re.findall('<span class=\"field-content\"><h2>.+</h2></span>',urllib.request.urlopen(f'http://eralash.ru/library/{page}/{index}').read().decode()) == []):\n",
    "        page += 1\n",
    "    print(page,index)\n",
    "    df = pd.concat([df, parse(f'http://eralash.ru/library/{page}/{index}', page)])"
   ]
  },
  {
   "cell_type": "code",
   "execution_count": 15,
   "metadata": {},
   "outputs": [
    {
     "data": {
      "text/html": [
       "<div>\n",
       "<style scoped>\n",
       "    .dataframe tbody tr th:only-of-type {\n",
       "        vertical-align: middle;\n",
       "    }\n",
       "\n",
       "    .dataframe tbody tr th {\n",
       "        vertical-align: top;\n",
       "    }\n",
       "\n",
       "    .dataframe thead th {\n",
       "        text-align: right;\n",
       "    }\n",
       "</style>\n",
       "<table border=\"1\" class=\"dataframe\">\n",
       "  <thead>\n",
       "    <tr style=\"text-align: right;\">\n",
       "      <th></th>\n",
       "    </tr>\n",
       "  </thead>\n",
       "  <tbody>\n",
       "  </tbody>\n",
       "</table>\n",
       "</div>"
      ],
      "text/plain": [
       "Empty DataFrame\n",
       "Columns: []\n",
       "Index: []"
      ]
     },
     "execution_count": 15,
     "metadata": {},
     "output_type": "execute_result"
    }
   ],
   "source": [
    "df"
   ]
  },
  {
   "cell_type": "code",
   "execution_count": 16,
   "metadata": {},
   "outputs": [],
   "source": [
    "df.to_csv('er.csv')"
   ]
  },
  {
   "cell_type": "code",
   "execution_count": 1,
   "metadata": {},
   "outputs": [],
   "source": [
    "import random"
   ]
  },
  {
   "cell_type": "code",
   "execution_count": 3,
   "metadata": {},
   "outputs": [],
   "source": [
    "data = []\n",
    "target, line = [], []\n",
    "for i in range(7000):\n",
    "    a = random.randint(0,100)\n",
    "    b = random.randint(0,100)\n",
    "    c = random.randint(0,100)\n",
    "    d = random.randint(0,100)\n",
    "    e = random.randint(0,100)\n",
    "    line = [1,a,b,c,e,d]\n",
    "    data.append(line)\n",
    "    target.append(-375 + 73*a + 35*c + e + 57*d)"
   ]
  },
  {
   "cell_type": "code",
   "execution_count": 4,
   "metadata": {},
   "outputs": [],
   "source": [
    "class LinearRegression:\n",
    "    def __init__(self, alpha, eps):\n",
    "        self.eps = eps\n",
    "        self.alpha = alpha\n",
    "        self.weights = []\n",
    "        \n",
    "    def predict(self, X):\n",
    "        sum = 0\n",
    "        for i in range(len(X)):\n",
    "            sum += X[i] * self.weights[i]\n",
    "        return sum\n",
    "    \n",
    "    def fit(self, data, target):\n",
    "        size = len(target)\n",
    "        step = 0\n",
    "        self.weights = [0] * len(data[0])\n",
    "        sample = random.randint(0,size-1)\n",
    "        X = data[sample]\n",
    "        error = target[sample] - self.predict(X)\n",
    "        while error * error > self.eps:\n",
    "            sample = random.randint(0,size-1)\n",
    "            X = data[sample]\n",
    "            error = target[sample] - self.predict(X)\n",
    "            for i in range(len(X)):\n",
    "                self.weights[i] -= -2 * self.alpha * error * X[i]\n",
    "        print(\"[ERROR] \"+str(error))\n",
    "        print(\"[WEIGHTS] \")\n",
    "        for weight in self.weights:\n",
    "            print(weight)"
   ]
  },
  {
   "cell_type": "code",
   "execution_count": 23,
   "metadata": {},
   "outputs": [],
   "source": [
    "reg = LinearRegression(1e-5, 5e-12)"
   ]
  },
  {
   "cell_type": "code",
   "execution_count": 24,
   "metadata": {},
   "outputs": [
    {
     "name": "stdout",
     "output_type": "stream",
     "text": [
      "[ERROR] -2.2202748368727043e-06\n",
      "[WEIGHTS] \n",
      "-364.81911374175104\n",
      "72.97406940947732\n",
      "-0.044201573222463236\n",
      "34.97045855867238\n",
      "0.9657701349513069\n",
      "56.97134514519801\n",
      "Wall time: 12.8 s\n"
     ]
    }
   ],
   "source": [
    "%%time\n",
    "reg.fit(data, target)"
   ]
  },
  {
   "cell_type": "code",
   "execution_count": 62,
   "metadata": {},
   "outputs": [],
   "source": [
    "from sklearn.linear_model import LinearRegression as LR"
   ]
  },
  {
   "cell_type": "code",
   "execution_count": 63,
   "metadata": {},
   "outputs": [],
   "source": [
    "reg2 = LR()"
   ]
  },
  {
   "cell_type": "code",
   "execution_count": 64,
   "metadata": {},
   "outputs": [
    {
     "name": "stdout",
     "output_type": "stream",
     "text": [
      "Wall time: 358 ms\n"
     ]
    },
    {
     "data": {
      "text/plain": [
       "LinearRegression()"
      ]
     },
     "execution_count": 64,
     "metadata": {},
     "output_type": "execute_result"
    }
   ],
   "source": [
    "%%time\n",
    "reg2.fit(data,target)"
   ]
  },
  {
   "cell_type": "code",
   "execution_count": 65,
   "metadata": {},
   "outputs": [
    {
     "data": {
      "text/plain": [
       "array([ 0.00000000e+00,  7.35000000e+02, -2.84217094e-14,  3.57000000e+02,\n",
       "        1.00000000e+00,  5.73000000e+02])"
      ]
     },
     "execution_count": 65,
     "metadata": {},
     "output_type": "execute_result"
    }
   ],
   "source": [
    "reg2.coef_"
   ]
  },
  {
   "cell_type": "code",
   "execution_count": 67,
   "metadata": {},
   "outputs": [
    {
     "data": {
      "text/plain": [
       "166224.7574923259"
      ]
     },
     "execution_count": 67,
     "metadata": {},
     "output_type": "execute_result"
    }
   ],
   "source": [
    "reg.predict((1, 100,100,100,100,100))"
   ]
  },
  {
   "cell_type": "code",
   "execution_count": 69,
   "metadata": {},
   "outputs": [
    {
     "data": {
      "text/plain": [
       "array([166225.])"
      ]
     },
     "execution_count": 69,
     "metadata": {},
     "output_type": "execute_result"
    }
   ],
   "source": [
    "reg2.predict([[1, 100,100,100,100,100]])"
   ]
  },
  {
   "cell_type": "code",
   "execution_count": null,
   "metadata": {},
   "outputs": [],
   "source": []
  }
 ],
 "metadata": {
  "kernelspec": {
   "display_name": "Python 3",
   "language": "python",
   "name": "python3"
  },
  "language_info": {
   "codemirror_mode": {
    "name": "ipython",
    "version": 3
   },
   "file_extension": ".py",
   "mimetype": "text/x-python",
   "name": "python",
   "nbconvert_exporter": "python",
   "pygments_lexer": "ipython3",
   "version": "3.9.4"
  }
 },
 "nbformat": 4,
 "nbformat_minor": 4
}
