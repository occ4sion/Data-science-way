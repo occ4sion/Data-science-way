{
 "cells": [
  {
   "cell_type": "code",
   "execution_count": 1,
   "id": "83b04432",
   "metadata": {},
   "outputs": [],
   "source": [
    "import pandas as pd\n",
    "import numpy as np"
   ]
  },
  {
   "cell_type": "code",
   "execution_count": 2,
   "id": "8814b538",
   "metadata": {
    "tags": []
   },
   "outputs": [],
   "source": [
    "from sklearn.datasets import load_iris as load\n",
    "\n",
    "iris = load()"
   ]
  },
  {
   "cell_type": "code",
   "execution_count": 4,
   "id": "1f009580",
   "metadata": {},
   "outputs": [
    {
     "data": {
      "text/plain": [
       "array([[5.1, 3.5, 1.4, 0.2],\n",
       "       [4.9, 3. , 1.4, 0.2],\n",
       "       [4.7, 3.2, 1.3, 0.2],\n",
       "       [4.6, 3.1, 1.5, 0.2],\n",
       "       [5. , 3.6, 1.4, 0.2],\n",
       "       [5.4, 3.9, 1.7, 0.4],\n",
       "       [4.6, 3.4, 1.4, 0.3],\n",
       "       [5. , 3.4, 1.5, 0.2],\n",
       "       [4.4, 2.9, 1.4, 0.2],\n",
       "       [4.9, 3.1, 1.5, 0.1]])"
      ]
     },
     "execution_count": 4,
     "metadata": {},
     "output_type": "execute_result"
    }
   ],
   "source": [
    "iris.data[:10]"
   ]
  },
  {
   "cell_type": "code",
   "execution_count": 5,
   "id": "7c2b60da",
   "metadata": {},
   "outputs": [],
   "source": [
    "X, y = pd.DataFrame(iris.data), pd.Series(iris.target)"
   ]
  },
  {
   "cell_type": "code",
   "execution_count": 6,
   "id": "e348ea02",
   "metadata": {},
   "outputs": [
    {
     "data": {
      "text/plain": [
       "array([0, 1, 2])"
      ]
     },
     "execution_count": 6,
     "metadata": {},
     "output_type": "execute_result"
    }
   ],
   "source": [
    "'''Setosa Versicolour Virginica'''\n",
    "y.unique()"
   ]
  },
  {
   "cell_type": "code",
   "execution_count": 7,
   "id": "a404d008",
   "metadata": {},
   "outputs": [
    {
     "data": {
      "text/plain": [
       "(150, 4)"
      ]
     },
     "execution_count": 7,
     "metadata": {},
     "output_type": "execute_result"
    }
   ],
   "source": [
    "X.shape"
   ]
  },
  {
   "cell_type": "markdown",
   "id": "e75e5449",
   "metadata": {},
   "source": [
    "$$\\hat{y}=\\arg\\max _{k\\in \\{1,...,K\\}} p(C_k)\\prod_{i=1}^{n}p(x_i|C_k)$$"
   ]
  },
  {
   "cell_type": "code",
   "execution_count": 77,
   "id": "e80722ab",
   "metadata": {},
   "outputs": [],
   "source": [
    "class BayesClassifier:\n",
    "    def __init__(self):\n",
    "        classes = None\n",
    "        X = None\n",
    "        y = None\n",
    "        \n",
    "    def prob(self, X, x):\n",
    "        return (np.sum(X>=x-X.std()) + np.sum(X<=x+X.std()))/X.shape[0]\n",
    "    \n",
    "    def fit(self, X, y):\n",
    "        '''\n",
    "        if type != float:\n",
    "            freq()\n",
    "        else:\n",
    "            prob()\n",
    "        '''\n",
    "        self.classes = dict.fromkeys(y.unique())\n",
    "        self.X = X\n",
    "        self.y = y\n",
    "        for c in self.classes.keys():\n",
    "            self.classes[c] = y[y == c].shape[0]/y.shape[0]\n",
    "            \n",
    "    def predict(self, x):\n",
    "        pr = 1\n",
    "        max = 0\n",
    "        C = ''\n",
    "        for c in self.classes.keys():\n",
    "            for feature in range(self.X.shape[1]):\n",
    "                pr *= self.prob(self.X.loc[self.y[self.y == c].index, feature],x[feature])\n",
    "            pr *= self.classes[c]\n",
    "            if pr > max:\n",
    "                max = pr\n",
    "                C = c\n",
    "            pr = 1\n",
    "        return [pr,max,C]"
   ]
  },
  {
   "cell_type": "code",
   "execution_count": 78,
   "id": "e57c97a9",
   "metadata": {},
   "outputs": [],
   "source": [
    "class BayesClassifier2:\n",
    "    def __init__(self):\n",
    "        classes = None\n",
    "        features = None\n",
    "        X = None\n",
    "        y = None\n",
    "        \n",
    "    def prob(self, X, x):\n",
    "        return (np.sum(X>x-X.std()) + np.sum(X<x+X.std()))/X.shape[0]\n",
    "    \n",
    "    def fit(self, X, y):\n",
    "        self.X = X\n",
    "        self.y = y\n",
    "        self.classes = dict(y.value_counts(normalize=True))\n",
    "        \n",
    "    def predict(self, x):\n",
    "        pr = 1\n",
    "        max = 0\n",
    "        C = ''\n",
    "        for c in self.classes.keys():\n",
    "            for feature in range(self.X.shape[1]):\n",
    "                if np.isin(x[feature],self.X[feature]):\n",
    "                    pr *= self.X[feature].value_counts(normalize=True).loc[x[feature]]\n",
    "                else:\n",
    "                    freq = self.prob(self.X.loc[self.y[self.y == c].index, feature],x[feature])\n",
    "                    pr *= freq if freq != 0 else .001\n",
    "            pr *= self.classes[c]\n",
    "            if pr > max:\n",
    "                max = pr\n",
    "                C = c\n",
    "            pr = 1\n",
    "        return [pr,max,C]"
   ]
  },
  {
   "cell_type": "code",
   "execution_count": 75,
   "id": "557b375d",
   "metadata": {},
   "outputs": [
    {
     "name": "stdout",
     "output_type": "stream",
     "text": [
      "[1, 5.681695218560329e-07, 0]\n",
      "2\n",
      "[1, 5.0989572474259357e-08, 0]\n",
      "2\n",
      "[1, 1.5704788322071878e-06, 0]\n",
      "1\n"
     ]
    }
   ],
   "source": [
    "from sklearn.model_selection import train_test_split\n",
    "\n",
    "X_train, X_test, y_train, y_test = train_test_split(X, y, test_size=0.02)\n",
    "_clf = BayesClassifier2()\n",
    "_clf.fit(X_train, y_train)\n",
    "for sample in range(X_test.shape[0]):\n",
    "    print(_clf.predict(X_test.iloc[sample]))\n",
    "    print(y_test.iloc[sample])"
   ]
  },
  {
   "cell_type": "code",
   "execution_count": 71,
   "id": "9f52e17b",
   "metadata": {
    "scrolled": true
   },
   "outputs": [],
   "source": [
    "from sklearn.datasets import load_breast_cancer as load\n",
    "\n",
    "data = load()\n",
    "data_X = pd.DataFrame(data.data)\n",
    "data_y = pd.Series(data.target)"
   ]
  },
  {
   "cell_type": "code",
   "execution_count": 82,
   "id": "c2214264",
   "metadata": {},
   "outputs": [
    {
     "name": "stdout",
     "output_type": "stream",
     "text": [
      "Доля правильных ответов: \n",
      "      86.842105%\n"
     ]
    }
   ],
   "source": [
    "X_train, X_test, y_train, y_test = train_test_split(data_X, data_y, test_size=0.2, random_state=255)\n",
    "_clf = BayesClassifier2()\n",
    "_clf.fit(X_train, y_train)\n",
    "print(f'''Доля правильных ответов: \n",
    "      {100 * (1-sum(\n",
    "        [abs(int(_clf.predict(X_test.iloc[sample])[-1]) - y_test.iloc[sample])\n",
    "        for sample in range(X_test.shape[0])])/X_test.shape[0]):3f}%''')"
   ]
  }
 ],
 "metadata": {
  "kernelspec": {
   "display_name": "Python 3",
   "language": "python",
   "name": "python3"
  },
  "language_info": {
   "codemirror_mode": {
    "name": "ipython",
    "version": 3
   },
   "file_extension": ".py",
   "mimetype": "text/x-python",
   "name": "python",
   "nbconvert_exporter": "python",
   "pygments_lexer": "ipython3",
   "version": "3.9.4"
  }
 },
 "nbformat": 4,
 "nbformat_minor": 5
}
