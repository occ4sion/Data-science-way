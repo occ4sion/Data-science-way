{
 "cells": [
  {
   "cell_type": "code",
   "execution_count": 1,
   "id": "2c3782a0-66ac-4359-be74-b40f1ac763db",
   "metadata": {},
   "outputs": [],
   "source": [
    "import numpy as np"
   ]
  },
  {
   "cell_type": "markdown",
   "id": "bcdce365-2113-4706-9b1b-a53675c0031b",
   "metadata": {},
   "source": [
    "### Broadcast\n",
    "\n",
    "**The Broadcasting Rule**\n",
    "\n",
    ">In order to broadcast, the size of the trailing axes for both arrays in an operation must either be the same size or one of them must be one.\n"
   ]
  },
  {
   "cell_type": "markdown",
   "id": "3d880057-50c4-44ca-90fb-6d53ea331ef9",
   "metadata": {},
   "source": [
    "``` ndarray(n,m,l) * ndarray(m,l) ``` OR ``` ndarray(n,m,l) * ndarray(1,1) ```"
   ]
  },
  {
   "cell_type": "code",
   "execution_count": 2,
   "id": "b655459b-3f69-4dff-9b96-203e1e343d38",
   "metadata": {},
   "outputs": [],
   "source": [
    "a = np.random.random([20,12,5,7,2,8,4])"
   ]
  },
  {
   "cell_type": "code",
   "execution_count": 3,
   "id": "a584d118-32d5-4526-994a-aa8e0035c1af",
   "metadata": {},
   "outputs": [
    {
     "name": "stdout",
     "output_type": "stream",
     "text": [
      " "
     ]
    },
    {
     "data": {
      "text/plain": [
       "         3 function calls in 0.003 seconds\n",
       "\n",
       "   Ordered by: internal time\n",
       "\n",
       "   ncalls  tottime  percall  cumtime  percall filename:lineno(function)\n",
       "        1    0.002    0.002    0.002    0.002 <string>:1(<module>)\n",
       "        1    0.000    0.000    0.003    0.003 {built-in method builtins.exec}\n",
       "        1    0.000    0.000    0.000    0.000 {method 'disable' of '_lsprof.Profiler' objects}"
      ]
     },
     "metadata": {},
     "output_type": "display_data"
    }
   ],
   "source": [
    "%%prun\n",
    "a * 8"
   ]
  },
  {
   "cell_type": "code",
   "execution_count": 4,
   "id": "8cc77c65-d00d-4d33-9bcb-5c8efbd8bcb0",
   "metadata": {},
   "outputs": [
    {
     "name": "stdout",
     "output_type": "stream",
     "text": [
      " "
     ]
    },
    {
     "data": {
      "text/plain": [
       "         10 function calls in 0.004 seconds\n",
       "\n",
       "   Ordered by: internal time\n",
       "\n",
       "   ncalls  tottime  percall  cumtime  percall filename:lineno(function)\n",
       "        1    0.003    0.003    0.004    0.004 <string>:1(<module>)\n",
       "        1    0.001    0.001    0.001    0.001 {built-in method numpy.core._multiarray_umath.implement_array_function}\n",
       "        1    0.000    0.000    0.004    0.004 {built-in method builtins.exec}\n",
       "        1    0.000    0.000    0.000    0.000 {built-in method numpy.empty}\n",
       "        1    0.000    0.000    0.000    0.000 {built-in method numpy.array}\n",
       "        1    0.000    0.000    0.001    0.001 numeric.py:288(full)\n",
       "        1    0.000    0.000    0.001    0.001 <__array_function__ internals>:2(copyto)\n",
       "        1    0.000    0.000    0.000    0.000 _asarray.py:23(asarray)\n",
       "        1    0.000    0.000    0.000    0.000 {method 'disable' of '_lsprof.Profiler' objects}\n",
       "        1    0.000    0.000    0.000    0.000 multiarray.py:1054(copyto)"
      ]
     },
     "metadata": {},
     "output_type": "display_data"
    }
   ],
   "source": [
    "%%prun\n",
    "eight = np.full(a.shape,8)\n",
    "a * eight"
   ]
  },
  {
   "cell_type": "code",
   "execution_count": 5,
   "id": "0eab7629-4274-4732-b86c-d73be29587b4",
   "metadata": {
    "tags": []
   },
   "outputs": [
    {
     "data": {
      "text/plain": [
       "array([[0, 1, 2, 3, 4],\n",
       "       [1, 2, 3, 4, 5],\n",
       "       [2, 3, 4, 5, 6],\n",
       "       [3, 4, 5, 6, 7],\n",
       "       [4, 5, 6, 7, 8]])"
      ]
     },
     "execution_count": 5,
     "metadata": {},
     "output_type": "execute_result"
    }
   ],
   "source": [
    "x = np.arange(5)\n",
    "x[:,np.newaxis] + x[np.newaxis,:]"
   ]
  },
  {
   "cell_type": "markdown",
   "id": "a2027b08-ba48-45d2-ad30-7c443a3d523e",
   "metadata": {},
   "source": [
    "#### Vector quantization"
   ]
  },
  {
   "cell_type": "markdown",
   "id": "9d5b8dd9-01dd-4b6f-8ae1-b8378d9ffdfb",
   "metadata": {
    "tags": []
   },
   "source": [
    "![VQ](https://numpy.org/doc/stable/_images/theory.broadcast_5.png)"
   ]
  },
  {
   "cell_type": "code",
   "execution_count": 6,
   "id": "7b79f066-3b35-48df-80e5-ce446a61f0d5",
   "metadata": {},
   "outputs": [],
   "source": [
    "bp = np.array([[205],[112]])\n",
    "fl = np.array([[195],[148]])\n",
    "mr = np.array([[175],[68]])\n",
    "fg = np.array([[155],[50]])"
   ]
  },
  {
   "cell_type": "code",
   "execution_count": 7,
   "id": "63c4828b-a0ad-4c37-aa6f-0c30948d8e36",
   "metadata": {},
   "outputs": [],
   "source": [
    "new = np.array([[187],[126]])"
   ]
  },
  {
   "cell_type": "code",
   "execution_count": 8,
   "id": "c20c4ef4-400d-4974-a631-9ad07282e1ef",
   "metadata": {},
   "outputs": [
    {
     "data": {
      "text/plain": [
       "array([[205, 195, 175, 155],\n",
       "       [112, 148,  68,  50]])"
      ]
     },
     "execution_count": 8,
     "metadata": {},
     "output_type": "execute_result"
    }
   ],
   "source": [
    "athletes = np.hstack((bp,fl,mr,fg))\n",
    "athletes"
   ]
  },
  {
   "cell_type": "markdown",
   "id": "c707bbdb-9d2f-4222-a324-d4b27619f0e5",
   "metadata": {},
   "source": [
    "**Euclidean distance**\n",
    "$$\n",
    "\\sqrt{\\sum_{i = 1}^{n}(p_i - q_i)^2} \n",
    "$$\n",
    "**Finding closest** $ {Athletes}_c\\ , c = \\arg \\min \\sqrt{\\sum_{i = 1}^{n}(p_i - q_i)^2}  $"
   ]
  },
  {
   "cell_type": "code",
   "execution_count": 9,
   "id": "f1f034c6-56e2-4af1-82b8-13c7750b1dab",
   "metadata": {},
   "outputs": [],
   "source": [
    "arg = np.argmin(\n",
    "    np.sqrt(\n",
    "        np.sum(\n",
    "            np.power( (athletes - new), 2)\n",
    "            ,axis=0)\n",
    "    ) \n",
    ")"
   ]
  },
  {
   "cell_type": "code",
   "execution_count": 10,
   "id": "d85b26fe-2044-41aa-93e6-f7f965a50c50",
   "metadata": {},
   "outputs": [
    {
     "data": {
      "text/plain": [
       "array([205, 112])"
      ]
     },
     "execution_count": 10,
     "metadata": {},
     "output_type": "execute_result"
    }
   ],
   "source": [
    "athletes[:,arg] ##backetball player"
   ]
  },
  {
   "cell_type": "markdown",
   "id": "5bfa14da-efc0-41d9-bf4c-aa95d1ce680b",
   "metadata": {},
   "source": [
    "### Structured arrays"
   ]
  },
  {
   "cell_type": "code",
   "execution_count": 11,
   "id": "196de834-04f6-43e3-83c3-eb9609d0be5c",
   "metadata": {},
   "outputs": [],
   "source": [
    "struct = np.array([('Bob',42), ('Alice',39)],\n",
    "                  dtype = [('name','U5'),('age','i1')])"
   ]
  },
  {
   "cell_type": "code",
   "execution_count": 12,
   "id": "10fdd707-1a2a-4814-81bd-1d0d93846945",
   "metadata": {
    "tags": []
   },
   "outputs": [
    {
     "data": {
      "text/plain": [
       "array([('Bob', 42), ('Alice', 39)], dtype=[('name', '<U5'), ('age', 'i1')])"
      ]
     },
     "execution_count": 12,
     "metadata": {},
     "output_type": "execute_result"
    }
   ],
   "source": [
    "struct"
   ]
  },
  {
   "cell_type": "code",
   "execution_count": 13,
   "id": "6aacbfd8-a3ba-47ab-bae4-4e6409376a46",
   "metadata": {},
   "outputs": [
    {
     "data": {
      "text/plain": [
       "array(['Bob', 'Alice'], dtype='<U5')"
      ]
     },
     "execution_count": 13,
     "metadata": {},
     "output_type": "execute_result"
    }
   ],
   "source": [
    "struct['name']"
   ]
  },
  {
   "cell_type": "code",
   "execution_count": 14,
   "id": "0d67ac2c-29a1-48cd-ac8e-ce15bf64bd94",
   "metadata": {},
   "outputs": [],
   "source": [
    "_dtype = np.dtype([('name','U5'),('age',np.uint8)])\n",
    "struct = np.array([('Nick',15),('Sofia',17),('Helen',14)],dtype=_dtype)"
   ]
  },
  {
   "cell_type": "code",
   "execution_count": 15,
   "id": "09bdce81-4f34-403c-bd9e-c9e45150d210",
   "metadata": {},
   "outputs": [
    {
     "data": {
      "text/plain": [
       "array([('Nick', 15), ('Sofia', 17), ('Helen', 14)],\n",
       "      dtype=[('name', '<U5'), ('age', 'u1')])"
      ]
     },
     "execution_count": 15,
     "metadata": {},
     "output_type": "execute_result"
    }
   ],
   "source": [
    "struct"
   ]
  },
  {
   "cell_type": "code",
   "execution_count": 16,
   "id": "aa858cbb-9ad9-4424-96c8-e4ca15dfbcd0",
   "metadata": {},
   "outputs": [
    {
     "data": {
      "text/plain": [
       "array([15, 17, 14], dtype=uint8)"
      ]
     },
     "execution_count": 16,
     "metadata": {},
     "output_type": "execute_result"
    }
   ],
   "source": [
    "struct['age']"
   ]
  },
  {
   "cell_type": "markdown",
   "id": "3285f055-46c9-4641-b2b9-1995a872e975",
   "metadata": {
    "tags": []
   },
   "source": [
    "### Indexing"
   ]
  },
  {
   "cell_type": "code",
   "execution_count": 17,
   "id": "979932bd-17de-4e7e-ab37-dd04c308e557",
   "metadata": {},
   "outputs": [],
   "source": [
    "a = np.arange(12).reshape(3,4)\n",
    "i = np.array([[1,2],[0,1]])\n",
    "j = i.view()"
   ]
  },
  {
   "cell_type": "code",
   "execution_count": 18,
   "id": "0f41955b-4fa6-4619-97c1-b2ec836172df",
   "metadata": {},
   "outputs": [
    {
     "data": {
      "text/plain": [
       "array([[[ 4,  5,  6,  7],\n",
       "        [ 8,  9, 10, 11]],\n",
       "\n",
       "       [[ 0,  1,  2,  3],\n",
       "        [ 4,  5,  6,  7]]])"
      ]
     },
     "execution_count": 18,
     "metadata": {},
     "output_type": "execute_result"
    }
   ],
   "source": [
    "a[i]"
   ]
  },
  {
   "cell_type": "code",
   "execution_count": 19,
   "id": "aabe6720-2490-40db-8b37-fa2f53886dd2",
   "metadata": {},
   "outputs": [
    {
     "data": {
      "text/plain": [
       "array([[ 5, 10],\n",
       "       [ 0,  5]])"
      ]
     },
     "execution_count": 19,
     "metadata": {},
     "output_type": "execute_result"
    }
   ],
   "source": [
    "a[i,j]"
   ]
  },
  {
   "cell_type": "code",
   "execution_count": 20,
   "id": "3253a19a-abc6-40b1-b6c1-b4810920c6be",
   "metadata": {},
   "outputs": [
    {
     "data": {
      "text/plain": [
       "array([[ 4,  5,  6,  7],\n",
       "       [ 8,  9, 10, 11]])"
      ]
     },
     "execution_count": 20,
     "metadata": {},
     "output_type": "execute_result"
    }
   ],
   "source": [
    "a[i][0]"
   ]
  },
  {
   "cell_type": "code",
   "execution_count": 21,
   "id": "bf61ad13-b675-4231-af94-93a87581fa28",
   "metadata": {},
   "outputs": [
    {
     "data": {
      "text/plain": [
       "(2, 2, 4)"
      ]
     },
     "execution_count": 21,
     "metadata": {},
     "output_type": "execute_result"
    }
   ],
   "source": [
    "a[i].shape"
   ]
  },
  {
   "cell_type": "markdown",
   "id": "1a2410e6-6bfe-4777-86fc-232204fc11f0",
   "metadata": {
    "tags": []
   },
   "source": [
    "#### Note:\n",
    "`a[i,j] is faster than a[i][j]`"
   ]
  },
  {
   "cell_type": "code",
   "execution_count": 22,
   "id": "8c72011d-f8ef-45a5-a377-27121d2d5c50",
   "metadata": {},
   "outputs": [
    {
     "name": "stdout",
     "output_type": "stream",
     "text": [
      " "
     ]
    },
    {
     "data": {
      "text/plain": [
       "         4 function calls in 0.424 seconds\n",
       "\n",
       "   Ordered by: internal time\n",
       "\n",
       "   ncalls  tottime  percall  cumtime  percall filename:lineno(function)\n",
       "        1    0.424    0.424    0.424    0.424 {method 'rand' of 'numpy.random.mtrand.RandomState' objects}\n",
       "        1    0.000    0.000    0.424    0.424 {built-in method builtins.exec}\n",
       "        1    0.000    0.000    0.424    0.424 <string>:1(<module>)\n",
       "        1    0.000    0.000    0.000    0.000 {method 'disable' of '_lsprof.Profiler' objects}"
      ]
     },
     "metadata": {},
     "output_type": "display_data"
    }
   ],
   "source": [
    "%%prun\n",
    "a = np.random.rand(40,12,15,12,9,6,10)"
   ]
  },
  {
   "cell_type": "code",
   "execution_count": 23,
   "id": "104d139d-46d2-4daa-9d74-e24f1894eb8a",
   "metadata": {},
   "outputs": [
    {
     "name": "stdout",
     "output_type": "stream",
     "text": [
      "Wall time: 0 ns\n"
     ]
    },
    {
     "data": {
      "text/plain": [
       "0.8745653810892984"
      ]
     },
     "execution_count": 23,
     "metadata": {},
     "output_type": "execute_result"
    }
   ],
   "source": [
    "%%time\n",
    "a[2,7,3,1,4,5,0]"
   ]
  },
  {
   "cell_type": "code",
   "execution_count": 24,
   "id": "f0067035-2490-46a9-b281-08bcfe45321d",
   "metadata": {},
   "outputs": [
    {
     "name": "stdout",
     "output_type": "stream",
     "text": [
      "Wall time: 0 ns\n"
     ]
    },
    {
     "data": {
      "text/plain": [
       "0.8745653810892984"
      ]
     },
     "execution_count": 24,
     "metadata": {},
     "output_type": "execute_result"
    }
   ],
   "source": [
    "%%time\n",
    "a[2][7][3][1][4][5][0]"
   ]
  },
  {
   "cell_type": "code",
   "execution_count": 25,
   "id": "f27b9be3-dcd1-4df9-8f76-267197324ccb",
   "metadata": {},
   "outputs": [
    {
     "data": {
      "text/plain": [
       "array([0.75887547, 0.25342112, 0.72226307, 0.04232523, 0.50731026,\n",
       "       0.87456538])"
      ]
     },
     "execution_count": 25,
     "metadata": {},
     "output_type": "execute_result"
    }
   ],
   "source": [
    "a[2,7,3,1,4,Ellipsis,0]"
   ]
  },
  {
   "cell_type": "markdown",
   "id": "539da48e-a3ad-41b7-8b48-3519a0ec1a34",
   "metadata": {},
   "source": [
    "### Custom array containers and classes"
   ]
  },
  {
   "cell_type": "markdown",
   "id": "80c495e0-1b72-4a20-94fe-a221ace500f9",
   "metadata": {},
   "source": [
    "#### Containers\n",
    "> Array containers do not inherit from the NumPy array classes. Containers **contain** a magic method `__array__`  that allows you to turn into a numpy array using the `array()` or `asarray()` functions.\n",
    "\n",
    "> Note that `__array__` must produce an array."
   ]
  },
  {
   "cell_type": "code",
   "execution_count": 26,
   "id": "3db87d9b-0d6c-42a5-9e88-c3d6c76b54a2",
   "metadata": {},
   "outputs": [],
   "source": [
    "class CustomContainer:\n",
    "    def __init__(self, size: tuple, val: float):\n",
    "        self._val = val\n",
    "        self._size = size\n",
    "        self._array = None\n",
    "    def __array__(self, dtype=None):\n",
    "        ### producing an array\n",
    "        ### with unpacking the tuple\n",
    "        self._array = np.sin(np.eye(*self._size) * self._val)\n",
    "        return self._array"
   ]
  },
  {
   "cell_type": "code",
   "execution_count": 27,
   "id": "0739370b-d2e2-44eb-80ab-d04536ecd607",
   "metadata": {},
   "outputs": [
    {
     "data": {
      "text/plain": [
       "array([[0.41211849, 0.        , 0.        , 0.        ],\n",
       "       [0.        , 0.41211849, 0.        , 0.        ],\n",
       "       [0.        , 0.        , 0.41211849, 0.        ],\n",
       "       [0.        , 0.        , 0.        , 0.41211849]])"
      ]
     },
     "execution_count": 27,
     "metadata": {},
     "output_type": "execute_result"
    }
   ],
   "source": [
    "container = CustomContainer((4,4),9)\n",
    "np.array(container, dtype=float)"
   ]
  },
  {
   "cell_type": "code",
   "execution_count": 28,
   "id": "aaf720b4-2abd-424f-b308-2b32bf152c0d",
   "metadata": {},
   "outputs": [
    {
     "name": "stdout",
     "output_type": "stream",
     "text": [
      "[[0.82423697 0.         0.         0.        ]\n",
      " [0.         0.82423697 0.         0.        ]\n",
      " [0.         0.         0.82423697 0.        ]\n",
      " [0.         0.         0.         0.82423697]]\n"
     ]
    }
   ],
   "source": [
    "try:\n",
    "    print(container * 2)\n",
    "except TypeError:\n",
    "    print(np.asarray(container) * 2)"
   ]
  },
  {
   "cell_type": "code",
   "execution_count": 29,
   "id": "58028c56-ab71-4e07-8705-f3202d03a5fa",
   "metadata": {},
   "outputs": [],
   "source": [
    "class MulContainer(CustomContainer):\n",
    "    def __init__(self, size: tuple, val: float):\n",
    "        super().__init__(size, val)\n",
    "        self.__array__(self)\n",
    "    def __mul__(self, b):\n",
    "        return self._array * b"
   ]
  },
  {
   "cell_type": "code",
   "execution_count": 30,
   "id": "f02e8f23-2ffd-4314-a16f-8fe63523596f",
   "metadata": {},
   "outputs": [
    {
     "data": {
      "text/plain": [
       "array([[1.78799333, 0.        , 0.        ],\n",
       "       [0.        , 1.78799333, 0.        ],\n",
       "       [0.        , 0.        , 1.78799333]])"
      ]
     },
     "execution_count": 30,
     "metadata": {},
     "output_type": "execute_result"
    }
   ],
   "source": [
    "mc = MulContainer((3,3),90)\n",
    "mc * 2"
   ]
  },
  {
   "cell_type": "markdown",
   "id": "53e9c720-ae3d-4615-9688-4743005ea379",
   "metadata": {},
   "source": [
    "#### Subclasses\n",
    "There are 3 types of nd.array subclass creation:\n",
    "* View\n",
    "* Template\n",
    "* Explicit"
   ]
  },
  {
   "cell_type": "code",
   "execution_count": 31,
   "id": "839f6caa-bead-4777-a60c-7dc83969fef4",
   "metadata": {},
   "outputs": [
    {
     "data": {
      "text/plain": [
       "__main__.FromViewSClass"
      ]
     },
     "execution_count": 31,
     "metadata": {},
     "output_type": "execute_result"
    }
   ],
   "source": [
    "class FromViewSClass(np.ndarray): pass\n",
    "\n",
    "arr = np.eye(4,4)*9\n",
    "## view method\n",
    "## subclass is `type` parameter\n",
    "arr = arr.view(FromViewSClass)\n",
    "type(arr)"
   ]
  },
  {
   "cell_type": "markdown",
   "id": "c3f05e3a-2fab-4c0f-bd11-4c706d21d654",
   "metadata": {},
   "source": [
    "Array container is not subclass and it haven't the `.sum()` method\n",
    "``` python\n",
    "mc.sum() ##error\n",
    "```"
   ]
  },
  {
   "cell_type": "code",
   "execution_count": 32,
   "id": "c1d501a5-b0fc-4953-8cd0-a700481afc9f",
   "metadata": {},
   "outputs": [
    {
     "data": {
      "text/plain": [
       "FromViewSClass(36.)"
      ]
     },
     "execution_count": 32,
     "metadata": {},
     "output_type": "execute_result"
    }
   ],
   "source": [
    "arr.sum()"
   ]
  },
  {
   "cell_type": "code",
   "execution_count": 33,
   "id": "8bca5267-9e9b-44b3-9a0a-22a553fc52e6",
   "metadata": {},
   "outputs": [
    {
     "name": "stdout",
     "output_type": "stream",
     "text": [
      "<class '__main__.FromViewSClass'>\n"
     ]
    }
   ],
   "source": [
    "if arr[:] is not arr:\n",
    "    ## instance of FromViewSClass\n",
    "    ## with copy of `template`\n",
    "    print(type(arr[:]))"
   ]
  },
  {
   "cell_type": "code",
   "execution_count": 34,
   "id": "865f3546-dc3d-4dcd-bf6c-0bab96358580",
   "metadata": {},
   "outputs": [],
   "source": [
    "import numpy as np"
   ]
  },
  {
   "cell_type": "code",
   "execution_count": 35,
   "id": "9aefa6d3-5fd7-46b3-a10b-3a4ef2bff624",
   "metadata": {},
   "outputs": [],
   "source": [
    "class ParamArray(np.ndarray): ## subclass of ndarray\n",
    "    def __new__(cls, shape, value=1, gain=None, cost=None):\n",
    "        ## __init__ not so flexible\n",
    "        ## Calling CustonClass(custom_arg)\n",
    "        ## Raise the exception\n",
    "        ## is an invalid keyword argument for ndarray()\n",
    "        instance = super().__new__(cls, shape)\n",
    "        ## instead of instance.data\n",
    "        instance[...] = np.sin(np.eye(*shape) * value)\n",
    "        instance.cost = cost\n",
    "        instance.gain = gain\n",
    "        return instance\n",
    "    def __array_finalize__(self, obj):\n",
    "        ## from explicit instance creation\n",
    "        if obj is None: return\n",
    "        ## in other cases\n",
    "        self[...] = np.sin(np.eye(*obj.shape) * 1)\n",
    "        self.cost = getattr(obj, 'cost', None)\n",
    "        self.gain = getattr(obj, 'gain', None)\n",
    "    \n",
    "    def tostring(self, **unused_kwargs):\n",
    "        print('custom method')\n",
    "        ## **unused_args caution for\n",
    "        ## future numpy args update "
   ]
  },
  {
   "cell_type": "code",
   "execution_count": 36,
   "id": "252a813d-37f2-45fd-84eb-e0a75ed750d0",
   "metadata": {},
   "outputs": [
    {
     "data": {
      "text/plain": [
       "ParamArray([[-0.0201096, -0.       , -0.       ],\n",
       "            [-0.       , -0.0201096, -0.       ],\n",
       "            [-0.       , -0.       , -0.0201096],\n",
       "            [-0.       , -0.       , -0.       ],\n",
       "            [-0.       , -0.       , -0.       ]])"
      ]
     },
     "execution_count": 36,
     "metadata": {},
     "output_type": "execute_result"
    }
   ],
   "source": [
    "subclass = ParamArray((5,3),3, gain = -.1425)\n",
    "subclass * subclass.gain"
   ]
  },
  {
   "cell_type": "code",
   "execution_count": 37,
   "id": "092be608-dff8-4461-93e7-cb7de6d38b8c",
   "metadata": {},
   "outputs": [
    {
     "data": {
      "text/plain": [
       "ParamArray([[0.84147098, 0.        , 0.        , 0.        ],\n",
       "            [0.        , 0.84147098, 0.        , 0.        ],\n",
       "            [0.        , 0.        , 0.84147098, 0.        ],\n",
       "            [0.        , 0.        , 0.        , 0.84147098]])"
      ]
     },
     "execution_count": 37,
     "metadata": {},
     "output_type": "execute_result"
    }
   ],
   "source": [
    "subclass = arr.view(ParamArray)\n",
    "subclass"
   ]
  },
  {
   "cell_type": "code",
   "execution_count": 38,
   "id": "571987b4-1aee-406d-a770-2cede1efc918",
   "metadata": {},
   "outputs": [
    {
     "name": "stdout",
     "output_type": "stream",
     "text": [
      "custom method\n"
     ]
    }
   ],
   "source": [
    "subclass.tostring()"
   ]
  },
  {
   "cell_type": "markdown",
   "id": "64ecde28-67df-4d3f-96e2-a213a2eca73b",
   "metadata": {},
   "source": [
    "### Creation and manipulation"
   ]
  },
  {
   "cell_type": "code",
   "execution_count": 39,
   "id": "3ff4f1a7-72f5-4083-a113-afbdc51c59d4",
   "metadata": {},
   "outputs": [
    {
     "data": {
      "text/plain": [
       "array([[0., 0., 0.],\n",
       "       [0., 0., 0.],\n",
       "       [0., 0., 0.],\n",
       "       [0., 0., 0.],\n",
       "       [0., 0., 0.]])"
      ]
     },
     "execution_count": 39,
     "metadata": {},
     "output_type": "execute_result"
    }
   ],
   "source": [
    "a = np.zeros([5,3])\n",
    "a"
   ]
  },
  {
   "cell_type": "code",
   "execution_count": 40,
   "id": "ef9348d8-fea3-4220-94e6-4ac28d3f03bc",
   "metadata": {},
   "outputs": [
    {
     "data": {
      "text/plain": [
       "array([[1., 0., 0., 0., 0.],\n",
       "       [0., 1., 0., 0., 0.],\n",
       "       [0., 0., 1., 0., 0.],\n",
       "       [0., 0., 0., 1., 0.],\n",
       "       [0., 0., 0., 0., 1.]])"
      ]
     },
     "execution_count": 40,
     "metadata": {},
     "output_type": "execute_result"
    }
   ],
   "source": [
    "b = np.identity(5)\n",
    "b"
   ]
  },
  {
   "cell_type": "code",
   "execution_count": 41,
   "id": "84107344-9c45-40a4-ac2a-aa0f92e841de",
   "metadata": {},
   "outputs": [
    {
     "data": {
      "text/plain": [
       "array([[7, 7, 7],\n",
       "       [7, 7, 7],\n",
       "       [7, 7, 7],\n",
       "       [7, 7, 7]])"
      ]
     },
     "execution_count": 41,
     "metadata": {},
     "output_type": "execute_result"
    }
   ],
   "source": [
    "c = np.full([4,3], 7); c"
   ]
  },
  {
   "cell_type": "code",
   "execution_count": 42,
   "id": "88f83953-03f6-4288-9df8-97519229534f",
   "metadata": {},
   "outputs": [
    {
     "data": {
      "text/plain": [
       "array([[0., 0., 0., 0., 0., 0., 0., 0., 0., 0.],\n",
       "       [0., 0., 0., 0., 0., 0., 0., 0., 0., 0.]])"
      ]
     },
     "execution_count": 42,
     "metadata": {},
     "output_type": "execute_result"
    }
   ],
   "source": [
    "(b @ a @ c.T).reshape(2,-1)"
   ]
  },
  {
   "cell_type": "code",
   "execution_count": 43,
   "id": "02906433-8f01-46bf-aee8-7fd22d22524a",
   "metadata": {},
   "outputs": [
    {
     "data": {
      "text/plain": [
       "array([[7, 7, 7, 7, 7, 7, 7, 7, 7, 7, 7, 7]])"
      ]
     },
     "execution_count": 43,
     "metadata": {},
     "output_type": "execute_result"
    }
   ],
   "source": [
    "c.reshape(1,4*3)"
   ]
  },
  {
   "cell_type": "code",
   "execution_count": 44,
   "id": "20f1de5f-a9ec-49c7-9470-4a06ed3d448c",
   "metadata": {},
   "outputs": [],
   "source": [
    "m = np.matrix([\n",
    "    [1,2,3],\n",
    "    [7,5,9],\n",
    "    [12,-1,0]\n",
    "])"
   ]
  },
  {
   "cell_type": "code",
   "execution_count": 45,
   "id": "a19cad74-fa09-4dac-b86a-586dae931c63",
   "metadata": {},
   "outputs": [
    {
     "data": {
      "text/plain": [
       "matrix([[ 1,  7, 12],\n",
       "        [ 2,  5, -1],\n",
       "        [ 3,  9,  0]])"
      ]
     },
     "execution_count": 45,
     "metadata": {},
     "output_type": "execute_result"
    }
   ],
   "source": [
    "np.rollaxis(m,1)"
   ]
  },
  {
   "cell_type": "code",
   "execution_count": 46,
   "id": "12ae1482-ac39-4a2c-9d68-fe5d97f369ee",
   "metadata": {},
   "outputs": [
    {
     "data": {
      "text/plain": [
       "matrix([[ 1,  2,  3,  7,  7,  7,  7],\n",
       "        [ 7,  5,  9,  7,  7,  7,  7],\n",
       "        [12, -1,  0,  7,  7,  7,  7]])"
      ]
     },
     "execution_count": 46,
     "metadata": {},
     "output_type": "execute_result"
    }
   ],
   "source": [
    "np.concatenate((m,c.reshape(3,-1)),axis=1)"
   ]
  },
  {
   "cell_type": "code",
   "execution_count": 47,
   "id": "682f2de4-359f-446b-b8cd-8bb634e0fa9d",
   "metadata": {},
   "outputs": [
    {
     "data": {
      "text/plain": [
       "[matrix([[ 1],\n",
       "         [ 7],\n",
       "         [12]]),\n",
       " matrix([[ 2],\n",
       "         [ 5],\n",
       "         [-1]]),\n",
       " matrix([[3],\n",
       "         [9],\n",
       "         [0]]),\n",
       " matrix([[7],\n",
       "         [7],\n",
       "         [7]]),\n",
       " matrix([[7],\n",
       "         [7],\n",
       "         [7]]),\n",
       " matrix([[7],\n",
       "         [7],\n",
       "         [7]]),\n",
       " matrix([[7],\n",
       "         [7],\n",
       "         [7]])]"
      ]
     },
     "execution_count": 47,
     "metadata": {},
     "output_type": "execute_result"
    }
   ],
   "source": [
    "np.split(np.concatenate((m,c.reshape(3,-1)),axis=1),7,axis=1)"
   ]
  },
  {
   "cell_type": "code",
   "execution_count": 48,
   "id": "2095bc8f-ccd3-4ad4-91a8-c57bfacf655d",
   "metadata": {},
   "outputs": [
    {
     "data": {
      "text/plain": [
       "(matrix([[-1,  0,  1,  2,  3,  5,  7,  9, 12]]),\n",
       " array([0, 0, 0, 0, 0, 0, 0, 0, 0, 1, 1, 1, 1, 1, 1, 1, 1, 1], dtype=int64))"
      ]
     },
     "execution_count": 48,
     "metadata": {},
     "output_type": "execute_result"
    }
   ],
   "source": [
    "np.unique(m, return_counts=True)"
   ]
  },
  {
   "cell_type": "code",
   "execution_count": 49,
   "id": "8d4e3424-c795-4d86-8ac5-d28a6044418a",
   "metadata": {},
   "outputs": [
    {
     "data": {
      "text/plain": [
       "matrix([[ 0, -1, 12],\n",
       "        [ 9,  5,  7],\n",
       "        [ 3,  2,  1]])"
      ]
     },
     "execution_count": 49,
     "metadata": {},
     "output_type": "execute_result"
    }
   ],
   "source": [
    "np.flip(m,axis=[1,0])"
   ]
  },
  {
   "cell_type": "code",
   "execution_count": 50,
   "id": "af3d3a01-ba69-4e32-bf1e-776fa9a9ed5a",
   "metadata": {},
   "outputs": [
    {
     "data": {
      "text/plain": [
       "array([ 1,  2,  3,  7,  5,  9, 12, -1,  0])"
      ]
     },
     "execution_count": 50,
     "metadata": {},
     "output_type": "execute_result"
    }
   ],
   "source": [
    "np.ravel(m)"
   ]
  },
  {
   "cell_type": "code",
   "execution_count": 51,
   "id": "beb497aa-7aec-4c09-b49d-a70b008d08d3",
   "metadata": {},
   "outputs": [
    {
     "data": {
      "text/plain": [
       "matrix([[-7,  1, -7,  2, -7,  3],\n",
       "        [-7,  7, -7,  5, -7,  9],\n",
       "        [-7, 12, -7, -1, -7,  0]])"
      ]
     },
     "execution_count": 51,
     "metadata": {},
     "output_type": "execute_result"
    }
   ],
   "source": [
    "np.insert(m,obj=[0,1,2],values=[-7,-7,-7],axis=1)"
   ]
  },
  {
   "cell_type": "markdown",
   "id": "42ad174f-2989-4d50-bc2b-0ec260d1034a",
   "metadata": {},
   "source": [
    "### Copy"
   ]
  },
  {
   "cell_type": "code",
   "execution_count": 52,
   "id": "e5e772fd-78a6-43d5-8d2b-7a7bde238634",
   "metadata": {},
   "outputs": [],
   "source": [
    "n = m[...] ## simple copy\n",
    "k = m.view() ## shallow copy\n",
    "l = m.copy() ## deep copy"
   ]
  },
  {
   "cell_type": "code",
   "execution_count": 53,
   "id": "c210715b-bce8-4b31-929e-fd1cbd3639f5",
   "metadata": {},
   "outputs": [
    {
     "data": {
      "text/plain": [
       "matrix([[-1, -1, -1],\n",
       "        [-1, -1, -1],\n",
       "        [-1, -1, -1]])"
      ]
     },
     "execution_count": 53,
     "metadata": {},
     "output_type": "execute_result"
    }
   ],
   "source": [
    "n.fill(-1) ## no copy since ndarray is mutable\n",
    "## any manipulation with array change the original data\n",
    "m ## 1 object, 1 data"
   ]
  },
  {
   "cell_type": "code",
   "execution_count": 54,
   "id": "4da81783-70e3-4505-99f4-cdeff72835f4",
   "metadata": {},
   "outputs": [
    {
     "data": {
      "text/plain": [
       "matrix([[0, 0, 0],\n",
       "        [0, 0, 0],\n",
       "        [0, 0, 0]])"
      ]
     },
     "execution_count": 54,
     "metadata": {},
     "output_type": "execute_result"
    }
   ],
   "source": [
    "k.fill(0) ## create view of object\n",
    "m ## 2 objects, 1 data"
   ]
  },
  {
   "cell_type": "code",
   "execution_count": 55,
   "id": "06849e9c-aa8b-4247-8706-c28fcd3bee4f",
   "metadata": {},
   "outputs": [
    {
     "data": {
      "text/plain": [
       "matrix([[0, 0, 0],\n",
       "        [0, 0, 0],\n",
       "        [0, 0, 0]])"
      ]
     },
     "execution_count": 55,
     "metadata": {},
     "output_type": "execute_result"
    }
   ],
   "source": [
    "l.fill(1) ## copy data to new object\n",
    "m ## 2 obj, 2 data"
   ]
  },
  {
   "cell_type": "markdown",
   "id": "dee5956c-febc-4f2a-ac0e-04d04c8c9a66",
   "metadata": {},
   "source": [
    "### Strings and datetime"
   ]
  },
  {
   "cell_type": "code",
   "execution_count": 56,
   "id": "38888c54-49ef-4f62-b945-3d03dabb4b52",
   "metadata": {},
   "outputs": [
    {
     "data": {
      "text/plain": [
       "array(2)"
      ]
     },
     "execution_count": 56,
     "metadata": {},
     "output_type": "execute_result"
    }
   ],
   "source": [
    "np.char.count('aff0vs','f')"
   ]
  },
  {
   "cell_type": "code",
   "execution_count": 57,
   "id": "5baf6b75-b2f7-49ee-860a-91ef890fa418",
   "metadata": {},
   "outputs": [
    {
     "data": {
      "text/plain": [
       "array(1)"
      ]
     },
     "execution_count": 57,
     "metadata": {},
     "output_type": "execute_result"
    }
   ],
   "source": [
    "np.char.find('abc','b')"
   ]
  }
 ],
 "metadata": {
  "kernelspec": {
   "display_name": "Python 3",
   "language": "python",
   "name": "python3"
  },
  "language_info": {
   "codemirror_mode": {
    "name": "ipython",
    "version": 3
   },
   "file_extension": ".py",
   "mimetype": "text/x-python",
   "name": "python",
   "nbconvert_exporter": "python",
   "pygments_lexer": "ipython3",
   "version": "3.9.4"
  }
 },
 "nbformat": 4,
 "nbformat_minor": 5
}
