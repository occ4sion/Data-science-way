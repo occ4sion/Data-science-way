{
 "cells": [
  {
   "cell_type": "code",
   "execution_count": 1,
   "id": "2c3782a0-66ac-4359-be74-b40f1ac763db",
   "metadata": {},
   "outputs": [],
   "source": [
    "import numpy as np"
   ]
  },
  {
   "cell_type": "markdown",
   "id": "bcdce365-2113-4706-9b1b-a53675c0031b",
   "metadata": {},
   "source": [
    "### Broadcast\n",
    "\n",
    "**The Broadcasting Rule**\n",
    "\n",
    ">In order to broadcast, the size of the trailing axes for both arrays in an operation must either be the same size or one of them must be one.\n"
   ]
  },
  {
   "cell_type": "markdown",
   "id": "3d880057-50c4-44ca-90fb-6d53ea331ef9",
   "metadata": {},
   "source": [
    "``` ndarray(n,m,l) * ndarray(m,l) ``` OR ``` ndarray(n,m,l) * ndarray(1,1) ```"
   ]
  },
  {
   "cell_type": "code",
   "execution_count": 6,
   "id": "a584d118-32d5-4526-994a-aa8e0035c1af",
   "metadata": {},
   "outputs": [
    {
     "name": "stdout",
     "output_type": "stream",
     "text": [
      " "
     ]
    },
    {
     "data": {
      "text/plain": [
       "         3 function calls in 0.452 seconds\n",
       "\n",
       "   Ordered by: internal time\n",
       "\n",
       "   ncalls  tottime  percall  cumtime  percall filename:lineno(function)\n",
       "        1    0.452    0.452    0.452    0.452 <string>:1(<module>)\n",
       "        1    0.000    0.000    0.452    0.452 {built-in method builtins.exec}\n",
       "        1    0.000    0.000    0.000    0.000 {method 'disable' of '_lsprof.Profiler' objects}"
      ]
     },
     "metadata": {},
     "output_type": "display_data"
    }
   ],
   "source": [
    "%%prun\n",
    "a * 8"
   ]
  },
  {
   "cell_type": "code",
   "execution_count": 10,
   "id": "8cc77c65-d00d-4d33-9bcb-5c8efbd8bcb0",
   "metadata": {},
   "outputs": [
    {
     "name": "stdout",
     "output_type": "stream",
     "text": [
      " "
     ]
    },
    {
     "data": {
      "text/plain": [
       "         10 function calls in 3.722 seconds\n",
       "\n",
       "   Ordered by: internal time\n",
       "\n",
       "   ncalls  tottime  percall  cumtime  percall filename:lineno(function)\n",
       "        1    3.492    3.492    3.663    3.663 <string>:1(<module>)\n",
       "        1    0.171    0.171    0.171    0.171 {built-in method numpy.core._multiarray_umath.implement_array_function}\n",
       "        1    0.059    0.059    3.722    3.722 {built-in method builtins.exec}\n",
       "        1    0.000    0.000    0.000    0.000 {built-in method numpy.empty}\n",
       "        1    0.000    0.000    0.171    0.171 numeric.py:288(full)\n",
       "        1    0.000    0.000    0.000    0.000 {built-in method numpy.array}\n",
       "        1    0.000    0.000    0.000    0.000 {method 'disable' of '_lsprof.Profiler' objects}\n",
       "        1    0.000    0.000    0.171    0.171 <__array_function__ internals>:2(copyto)\n",
       "        1    0.000    0.000    0.000    0.000 _asarray.py:23(asarray)\n",
       "        1    0.000    0.000    0.000    0.000 multiarray.py:1054(copyto)"
      ]
     },
     "metadata": {},
     "output_type": "display_data"
    }
   ],
   "source": [
    "%%prun\n",
    "eight = np.full(a.shape,8)\n",
    "a * eight"
   ]
  },
  {
   "cell_type": "code",
   "execution_count": 7,
   "id": "0eab7629-4274-4732-b86c-d73be29587b4",
   "metadata": {
    "tags": []
   },
   "outputs": [
    {
     "data": {
      "text/plain": [
       "array([[0, 1, 2, 3, 4],\n",
       "       [1, 2, 3, 4, 5],\n",
       "       [2, 3, 4, 5, 6],\n",
       "       [3, 4, 5, 6, 7],\n",
       "       [4, 5, 6, 7, 8]])"
      ]
     },
     "execution_count": 7,
     "metadata": {},
     "output_type": "execute_result"
    }
   ],
   "source": [
    "x = np.arange(5)\n",
    "x[:,np.newaxis] + x[np.newaxis,:]"
   ]
  },
  {
   "cell_type": "markdown",
   "id": "a2027b08-ba48-45d2-ad30-7c443a3d523e",
   "metadata": {},
   "source": [
    "#### Vector quantization"
   ]
  },
  {
   "cell_type": "markdown",
   "id": "9d5b8dd9-01dd-4b6f-8ae1-b8378d9ffdfb",
   "metadata": {
    "tags": []
   },
   "source": [
    "![VQ](https://numpy.org/doc/stable/_images/theory.broadcast_5.png)"
   ]
  },
  {
   "cell_type": "code",
   "execution_count": 18,
   "id": "7b79f066-3b35-48df-80e5-ce446a61f0d5",
   "metadata": {},
   "outputs": [],
   "source": [
    "bp = np.array([[205],[112]])\n",
    "fl = np.array([[195],[148]])\n",
    "mr = np.array([[175],[68]])\n",
    "fg = np.array([[155],[50]])"
   ]
  },
  {
   "cell_type": "code",
   "execution_count": 19,
   "id": "63c4828b-a0ad-4c37-aa6f-0c30948d8e36",
   "metadata": {},
   "outputs": [],
   "source": [
    "new = np.array([[187],[126]])"
   ]
  },
  {
   "cell_type": "code",
   "execution_count": 20,
   "id": "c20c4ef4-400d-4974-a631-9ad07282e1ef",
   "metadata": {},
   "outputs": [
    {
     "data": {
      "text/plain": [
       "array([[205, 195, 175, 155],\n",
       "       [112, 148,  68,  50]])"
      ]
     },
     "execution_count": 20,
     "metadata": {},
     "output_type": "execute_result"
    }
   ],
   "source": [
    "athletes = np.hstack((bp,fl,mr,fg))\n",
    "athletes"
   ]
  },
  {
   "cell_type": "markdown",
   "id": "c707bbdb-9d2f-4222-a324-d4b27619f0e5",
   "metadata": {},
   "source": [
    "**Euclidean distance**\n",
    "$$\n",
    "\\sqrt{\\sum_{i = 1}^{n}(p_i - q_i)^2} \n",
    "$$\n",
    "**Finding closest** $ {Athletes}_c\\ , c = \\arg \\min \\sqrt{\\sum_{i = 1}^{n}(p_i - q_i)^2}  $"
   ]
  },
  {
   "cell_type": "code",
   "execution_count": 23,
   "id": "f1f034c6-56e2-4af1-82b8-13c7750b1dab",
   "metadata": {},
   "outputs": [],
   "source": [
    "arg = np.argmin(\n",
    "    np.sqrt(\n",
    "        np.sum(\n",
    "            np.power( (athletes - new), 2)\n",
    "            ,axis=0)\n",
    "    ) \n",
    ")"
   ]
  },
  {
   "cell_type": "code",
   "execution_count": 34,
   "id": "d85b26fe-2044-41aa-93e6-f7f965a50c50",
   "metadata": {},
   "outputs": [
    {
     "data": {
      "text/plain": [
       "array([205, 112])"
      ]
     },
     "execution_count": 34,
     "metadata": {},
     "output_type": "execute_result"
    }
   ],
   "source": [
    "athletes[:,arg] ##backetball player"
   ]
  },
  {
   "cell_type": "markdown",
   "id": "5bfa14da-efc0-41d9-bf4c-aa95d1ce680b",
   "metadata": {},
   "source": [
    "### Structured arrays"
   ]
  },
  {
   "cell_type": "code",
   "execution_count": 75,
   "id": "196de834-04f6-43e3-83c3-eb9609d0be5c",
   "metadata": {},
   "outputs": [],
   "source": [
    "struct = np.array([('Bob',42), ('Alice',39)],\n",
    "                  dtype = [('name','U5'),('age','i1')])"
   ]
  },
  {
   "cell_type": "code",
   "execution_count": 76,
   "id": "10fdd707-1a2a-4814-81bd-1d0d93846945",
   "metadata": {
    "tags": []
   },
   "outputs": [
    {
     "data": {
      "text/plain": [
       "array([('Bob', 42), ('Alice', 39)], dtype=[('name', '<U5'), ('age', 'i1')])"
      ]
     },
     "execution_count": 76,
     "metadata": {},
     "output_type": "execute_result"
    }
   ],
   "source": [
    "struct"
   ]
  },
  {
   "cell_type": "code",
   "execution_count": 77,
   "id": "6aacbfd8-a3ba-47ab-bae4-4e6409376a46",
   "metadata": {},
   "outputs": [
    {
     "data": {
      "text/plain": [
       "array(['Bob', 'Alice'], dtype='<U5')"
      ]
     },
     "execution_count": 77,
     "metadata": {},
     "output_type": "execute_result"
    }
   ],
   "source": [
    "struct['name']"
   ]
  },
  {
   "cell_type": "markdown",
   "id": "3285f055-46c9-4641-b2b9-1995a872e975",
   "metadata": {},
   "source": [
    "### Indexing"
   ]
  },
  {
   "cell_type": "code",
   "execution_count": 2,
   "id": "979932bd-17de-4e7e-ab37-dd04c308e557",
   "metadata": {},
   "outputs": [],
   "source": [
    "a = np.arange(12).reshape(3,4)\n",
    "i = np.array([[1,2],[0,1]])\n",
    "j = i.view()"
   ]
  },
  {
   "cell_type": "code",
   "execution_count": 3,
   "id": "0f41955b-4fa6-4619-97c1-b2ec836172df",
   "metadata": {},
   "outputs": [
    {
     "data": {
      "text/plain": [
       "array([[[ 4,  5,  6,  7],\n",
       "        [ 8,  9, 10, 11]],\n",
       "\n",
       "       [[ 0,  1,  2,  3],\n",
       "        [ 4,  5,  6,  7]]])"
      ]
     },
     "execution_count": 3,
     "metadata": {},
     "output_type": "execute_result"
    }
   ],
   "source": [
    "a[i]"
   ]
  },
  {
   "cell_type": "code",
   "execution_count": 4,
   "id": "aabe6720-2490-40db-8b37-fa2f53886dd2",
   "metadata": {},
   "outputs": [
    {
     "data": {
      "text/plain": [
       "array([[ 5, 10],\n",
       "       [ 0,  5]])"
      ]
     },
     "execution_count": 4,
     "metadata": {},
     "output_type": "execute_result"
    }
   ],
   "source": [
    "a[i,j]"
   ]
  },
  {
   "cell_type": "code",
   "execution_count": 5,
   "id": "3253a19a-abc6-40b1-b6c1-b4810920c6be",
   "metadata": {},
   "outputs": [
    {
     "data": {
      "text/plain": [
       "array([[ 4,  5,  6,  7],\n",
       "       [ 8,  9, 10, 11]])"
      ]
     },
     "execution_count": 5,
     "metadata": {},
     "output_type": "execute_result"
    }
   ],
   "source": [
    "a[i][0]"
   ]
  },
  {
   "cell_type": "code",
   "execution_count": 6,
   "id": "bf61ad13-b675-4231-af94-93a87581fa28",
   "metadata": {},
   "outputs": [
    {
     "data": {
      "text/plain": [
       "(2, 2, 4)"
      ]
     },
     "execution_count": 6,
     "metadata": {},
     "output_type": "execute_result"
    }
   ],
   "source": [
    "a[i].shape"
   ]
  },
  {
   "cell_type": "markdown",
   "id": "1a2410e6-6bfe-4777-86fc-232204fc11f0",
   "metadata": {},
   "source": [
    "#### Note:\n",
    "`a[i,j] is faster than a[i][j]`"
   ]
  },
  {
   "cell_type": "code",
   "execution_count": 29,
   "id": "8c72011d-f8ef-45a5-a377-27121d2d5c50",
   "metadata": {},
   "outputs": [
    {
     "name": "stdout",
     "output_type": "stream",
     "text": [
      " "
     ]
    },
    {
     "data": {
      "text/plain": [
       "         4 function calls in 0.771 seconds\n",
       "\n",
       "   Ordered by: internal time\n",
       "\n",
       "   ncalls  tottime  percall  cumtime  percall filename:lineno(function)\n",
       "        1    0.598    0.598    0.598    0.598 {method 'rand' of 'numpy.random.mtrand.RandomState' objects}\n",
       "        1    0.154    0.154    0.752    0.752 <string>:1(<module>)\n",
       "        1    0.019    0.019    0.771    0.771 {built-in method builtins.exec}\n",
       "        1    0.000    0.000    0.000    0.000 {method 'disable' of '_lsprof.Profiler' objects}"
      ]
     },
     "metadata": {},
     "output_type": "display_data"
    }
   ],
   "source": [
    "%%prun\n",
    "a = np.random.rand(40,12,15,12,9,6,10)"
   ]
  },
  {
   "cell_type": "code",
   "execution_count": 30,
   "id": "104d139d-46d2-4daa-9d74-e24f1894eb8a",
   "metadata": {},
   "outputs": [
    {
     "name": "stdout",
     "output_type": "stream",
     "text": [
      "Wall time: 69.2 ms\n"
     ]
    },
    {
     "data": {
      "text/plain": [
       "0.9492695360693872"
      ]
     },
     "execution_count": 30,
     "metadata": {},
     "output_type": "execute_result"
    }
   ],
   "source": [
    "%%time\n",
    "a[2,7,3,1,4,5,0]"
   ]
  },
  {
   "cell_type": "code",
   "execution_count": 31,
   "id": "f0067035-2490-46a9-b281-08bcfe45321d",
   "metadata": {},
   "outputs": [
    {
     "name": "stdout",
     "output_type": "stream",
     "text": [
      "Wall time: 0 ns\n"
     ]
    },
    {
     "data": {
      "text/plain": [
       "0.9492695360693872"
      ]
     },
     "execution_count": 31,
     "metadata": {},
     "output_type": "execute_result"
    }
   ],
   "source": [
    "%%time\n",
    "a[2][7][3][1][4][5][0]"
   ]
  },
  {
   "cell_type": "code",
   "execution_count": 16,
   "id": "f27b9be3-dcd1-4df9-8f76-267197324ccb",
   "metadata": {},
   "outputs": [
    {
     "data": {
      "text/plain": [
       "array([0.56519612, 0.982017  , 0.25683676, 0.23245569, 0.19628817,\n",
       "       0.77130088])"
      ]
     },
     "execution_count": 16,
     "metadata": {},
     "output_type": "execute_result"
    }
   ],
   "source": [
    "a[2,7,3,1,4,Ellipsis,0]"
   ]
  },
  {
   "cell_type": "markdown",
   "id": "64ecde28-67df-4d3f-96e2-a213a2eca73b",
   "metadata": {},
   "source": [
    "### Creation and manipulation"
   ]
  },
  {
   "cell_type": "code",
   "execution_count": 5,
   "id": "3ff4f1a7-72f5-4083-a113-afbdc51c59d4",
   "metadata": {},
   "outputs": [
    {
     "data": {
      "text/plain": [
       "array([[0., 0., 0.],\n",
       "       [0., 0., 0.],\n",
       "       [0., 0., 0.],\n",
       "       [0., 0., 0.],\n",
       "       [0., 0., 0.]])"
      ]
     },
     "execution_count": 5,
     "metadata": {},
     "output_type": "execute_result"
    }
   ],
   "source": [
    "a = np.zeros([5,3])\n",
    "a"
   ]
  },
  {
   "cell_type": "code",
   "execution_count": 6,
   "id": "ef9348d8-fea3-4220-94e6-4ac28d3f03bc",
   "metadata": {},
   "outputs": [
    {
     "data": {
      "text/plain": [
       "array([[1., 0., 0., 0., 0.],\n",
       "       [0., 1., 0., 0., 0.],\n",
       "       [0., 0., 1., 0., 0.],\n",
       "       [0., 0., 0., 1., 0.],\n",
       "       [0., 0., 0., 0., 1.]])"
      ]
     },
     "execution_count": 6,
     "metadata": {},
     "output_type": "execute_result"
    }
   ],
   "source": [
    "b = np.identity(5)\n",
    "b"
   ]
  },
  {
   "cell_type": "code",
   "execution_count": 7,
   "id": "94c41a09-3d1b-4fae-b891-84a281ea5e53",
   "metadata": {},
   "outputs": [
    {
     "name": "stdout",
     "output_type": "stream",
     "text": [
      "Wall time: 144 ms\n"
     ]
    },
    {
     "data": {
      "text/plain": [
       "array([[0., 0., 0.],\n",
       "       [0., 0., 0.],\n",
       "       [0., 0., 0.],\n",
       "       [0., 0., 0.],\n",
       "       [0., 0., 0.]])"
      ]
     },
     "execution_count": 7,
     "metadata": {},
     "output_type": "execute_result"
    }
   ],
   "source": [
    "%%time\n",
    "b.dot(a)"
   ]
  },
  {
   "cell_type": "code",
   "execution_count": 8,
   "id": "84107344-9c45-40a4-ac2a-aa0f92e841de",
   "metadata": {},
   "outputs": [
    {
     "data": {
      "text/plain": [
       "array([[7, 7, 7],\n",
       "       [7, 7, 7],\n",
       "       [7, 7, 7],\n",
       "       [7, 7, 7]])"
      ]
     },
     "execution_count": 8,
     "metadata": {},
     "output_type": "execute_result"
    }
   ],
   "source": [
    "c = np.full([4,3], 7); c"
   ]
  },
  {
   "cell_type": "code",
   "execution_count": 11,
   "id": "88f83953-03f6-4288-9df8-97519229534f",
   "metadata": {},
   "outputs": [
    {
     "data": {
      "text/plain": [
       "array([[0., 0., 0., 0., 0., 0., 0., 0., 0., 0.],\n",
       "       [0., 0., 0., 0., 0., 0., 0., 0., 0., 0.]])"
      ]
     },
     "execution_count": 11,
     "metadata": {},
     "output_type": "execute_result"
    }
   ],
   "source": [
    "b.dot(a).dot(c.T).reshape(2,-1)"
   ]
  },
  {
   "cell_type": "code",
   "execution_count": 12,
   "id": "02906433-8f01-46bf-aee8-7fd22d22524a",
   "metadata": {},
   "outputs": [
    {
     "data": {
      "text/plain": [
       "array([[7, 7, 7, 7, 7, 7, 7, 7, 7, 7, 7, 7]])"
      ]
     },
     "execution_count": 12,
     "metadata": {},
     "output_type": "execute_result"
    }
   ],
   "source": [
    "c.reshape(1,4*3)"
   ]
  },
  {
   "cell_type": "code",
   "execution_count": 9,
   "id": "20f1de5f-a9ec-49c7-9470-4a06ed3d448c",
   "metadata": {},
   "outputs": [],
   "source": [
    "m = np.matrix([\n",
    "    [1,2,3],\n",
    "    [7,5,9],\n",
    "    [12,-1,0]\n",
    "])"
   ]
  },
  {
   "cell_type": "code",
   "execution_count": 10,
   "id": "a19cad74-fa09-4dac-b86a-586dae931c63",
   "metadata": {},
   "outputs": [
    {
     "data": {
      "text/plain": [
       "matrix([[ 1,  7, 12],\n",
       "        [ 2,  5, -1],\n",
       "        [ 3,  9,  0]])"
      ]
     },
     "execution_count": 10,
     "metadata": {},
     "output_type": "execute_result"
    }
   ],
   "source": [
    "np.rollaxis(m,1)"
   ]
  },
  {
   "cell_type": "code",
   "execution_count": 11,
   "id": "12ae1482-ac39-4a2c-9d68-fe5d97f369ee",
   "metadata": {},
   "outputs": [
    {
     "data": {
      "text/plain": [
       "matrix([[ 1,  2,  3,  7,  7,  7,  7],\n",
       "        [ 7,  5,  9,  7,  7,  7,  7],\n",
       "        [12, -1,  0,  7,  7,  7,  7]])"
      ]
     },
     "execution_count": 11,
     "metadata": {},
     "output_type": "execute_result"
    }
   ],
   "source": [
    "np.concatenate((m,c.reshape(3,-1)),axis=1)"
   ]
  },
  {
   "cell_type": "code",
   "execution_count": 12,
   "id": "682f2de4-359f-446b-b8cd-8bb634e0fa9d",
   "metadata": {},
   "outputs": [
    {
     "data": {
      "text/plain": [
       "[matrix([[ 1],\n",
       "         [ 7],\n",
       "         [12]]),\n",
       " matrix([[ 2],\n",
       "         [ 5],\n",
       "         [-1]]),\n",
       " matrix([[3],\n",
       "         [9],\n",
       "         [0]]),\n",
       " matrix([[7],\n",
       "         [7],\n",
       "         [7]]),\n",
       " matrix([[7],\n",
       "         [7],\n",
       "         [7]]),\n",
       " matrix([[7],\n",
       "         [7],\n",
       "         [7]]),\n",
       " matrix([[7],\n",
       "         [7],\n",
       "         [7]])]"
      ]
     },
     "execution_count": 12,
     "metadata": {},
     "output_type": "execute_result"
    }
   ],
   "source": [
    "np.split(np.concatenate((m,c.reshape(3,-1)),axis=1),7,axis=1)"
   ]
  },
  {
   "cell_type": "code",
   "execution_count": 13,
   "id": "2095bc8f-ccd3-4ad4-91a8-c57bfacf655d",
   "metadata": {},
   "outputs": [
    {
     "data": {
      "text/plain": [
       "(array([7]), array([12], dtype=int64))"
      ]
     },
     "execution_count": 13,
     "metadata": {},
     "output_type": "execute_result"
    }
   ],
   "source": [
    "np.unique(c,return_counts=True)"
   ]
  },
  {
   "cell_type": "code",
   "execution_count": 14,
   "id": "8d4e3424-c795-4d86-8ac5-d28a6044418a",
   "metadata": {},
   "outputs": [
    {
     "data": {
      "text/plain": [
       "matrix([[ 0, -1, 12],\n",
       "        [ 9,  5,  7],\n",
       "        [ 3,  2,  1]])"
      ]
     },
     "execution_count": 14,
     "metadata": {},
     "output_type": "execute_result"
    }
   ],
   "source": [
    "np.flip(m,axis=[1,0])"
   ]
  },
  {
   "cell_type": "code",
   "execution_count": 15,
   "id": "af3d3a01-ba69-4e32-bf1e-776fa9a9ed5a",
   "metadata": {},
   "outputs": [
    {
     "data": {
      "text/plain": [
       "array([ 1,  2,  3,  7,  5,  9, 12, -1,  0])"
      ]
     },
     "execution_count": 15,
     "metadata": {},
     "output_type": "execute_result"
    }
   ],
   "source": [
    "np.ravel(m)"
   ]
  },
  {
   "cell_type": "code",
   "execution_count": 16,
   "id": "beb497aa-7aec-4c09-b49d-a70b008d08d3",
   "metadata": {},
   "outputs": [
    {
     "data": {
      "text/plain": [
       "matrix([[-7,  1, -7,  2, -7,  3],\n",
       "        [-7,  7, -7,  5, -7,  9],\n",
       "        [-7, 12, -7, -1, -7,  0]])"
      ]
     },
     "execution_count": 16,
     "metadata": {},
     "output_type": "execute_result"
    }
   ],
   "source": [
    "np.insert(m,obj=[0,1,2],values=[-7,-7,-7],axis=1)"
   ]
  },
  {
   "cell_type": "markdown",
   "id": "dee5956c-febc-4f2a-ac0e-04d04c8c9a66",
   "metadata": {},
   "source": [
    "### Strings and datetime"
   ]
  },
  {
   "cell_type": "code",
   "execution_count": 21,
   "id": "38888c54-49ef-4f62-b945-3d03dabb4b52",
   "metadata": {},
   "outputs": [
    {
     "data": {
      "text/plain": [
       "array(2)"
      ]
     },
     "execution_count": 21,
     "metadata": {},
     "output_type": "execute_result"
    }
   ],
   "source": [
    "np.char.count('aff0vs','f')"
   ]
  },
  {
   "cell_type": "code",
   "execution_count": 22,
   "id": "5baf6b75-b2f7-49ee-860a-91ef890fa418",
   "metadata": {},
   "outputs": [
    {
     "data": {
      "text/plain": [
       "array(1)"
      ]
     },
     "execution_count": 22,
     "metadata": {},
     "output_type": "execute_result"
    }
   ],
   "source": [
    "np.char.find('abc','b')"
   ]
  }
 ],
 "metadata": {
  "kernelspec": {
   "display_name": "Python 3",
   "language": "python",
   "name": "python3"
  },
  "language_info": {
   "codemirror_mode": {
    "name": "ipython",
    "version": 3
   },
   "file_extension": ".py",
   "mimetype": "text/x-python",
   "name": "python",
   "nbconvert_exporter": "python",
   "pygments_lexer": "ipython3",
   "version": "3.9.4"
  }
 },
 "nbformat": 4,
 "nbformat_minor": 5
}
