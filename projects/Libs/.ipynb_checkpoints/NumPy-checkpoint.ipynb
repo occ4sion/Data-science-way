{
 "cells": [
  {
   "cell_type": "code",
   "execution_count": 1,
   "id": "2c3782a0-66ac-4359-be74-b40f1ac763db",
   "metadata": {},
   "outputs": [],
   "source": [
    "import numpy as np"
   ]
  },
  {
   "cell_type": "markdown",
   "id": "64ecde28-67df-4d3f-96e2-a213a2eca73b",
   "metadata": {},
   "source": [
    "### Creation and manipulation"
   ]
  },
  {
   "cell_type": "code",
   "execution_count": 2,
   "id": "3ff4f1a7-72f5-4083-a113-afbdc51c59d4",
   "metadata": {},
   "outputs": [
    {
     "data": {
      "text/plain": [
       "array([[0., 0., 0.],\n",
       "       [0., 0., 0.],\n",
       "       [0., 0., 0.],\n",
       "       [0., 0., 0.],\n",
       "       [0., 0., 0.]])"
      ]
     },
     "execution_count": 2,
     "metadata": {},
     "output_type": "execute_result"
    }
   ],
   "source": [
    "a = np.zeros([5,3])\n",
    "a"
   ]
  },
  {
   "cell_type": "code",
   "execution_count": 3,
   "id": "ef9348d8-fea3-4220-94e6-4ac28d3f03bc",
   "metadata": {},
   "outputs": [
    {
     "data": {
      "text/plain": [
       "array([[1., 0., 0., 0., 0.],\n",
       "       [0., 1., 0., 0., 0.],\n",
       "       [0., 0., 1., 0., 0.],\n",
       "       [0., 0., 0., 1., 0.],\n",
       "       [0., 0., 0., 0., 1.]])"
      ]
     },
     "execution_count": 3,
     "metadata": {},
     "output_type": "execute_result"
    }
   ],
   "source": [
    "b = np.identity(5)\n",
    "b"
   ]
  },
  {
   "cell_type": "code",
   "execution_count": 4,
   "id": "94c41a09-3d1b-4fae-b891-84a281ea5e53",
   "metadata": {},
   "outputs": [
    {
     "name": "stdout",
     "output_type": "stream",
     "text": [
      "Wall time: 0 ns\n"
     ]
    },
    {
     "data": {
      "text/plain": [
       "array([[0., 0., 0.],\n",
       "       [0., 0., 0.],\n",
       "       [0., 0., 0.],\n",
       "       [0., 0., 0.],\n",
       "       [0., 0., 0.]])"
      ]
     },
     "execution_count": 4,
     "metadata": {},
     "output_type": "execute_result"
    }
   ],
   "source": [
    "%%time\n",
    "b.dot(a)"
   ]
  },
  {
   "cell_type": "code",
   "execution_count": 5,
   "id": "84107344-9c45-40a4-ac2a-aa0f92e841de",
   "metadata": {},
   "outputs": [
    {
     "data": {
      "text/plain": [
       "array([[7, 7, 7],\n",
       "       [7, 7, 7],\n",
       "       [7, 7, 7],\n",
       "       [7, 7, 7]])"
      ]
     },
     "execution_count": 5,
     "metadata": {},
     "output_type": "execute_result"
    }
   ],
   "source": [
    "c = np.full([4,3], 7); c"
   ]
  },
  {
   "cell_type": "code",
   "execution_count": 6,
   "id": "88f83953-03f6-4288-9df8-97519229534f",
   "metadata": {},
   "outputs": [
    {
     "data": {
      "text/plain": [
       "array([[0., 0., 0., 0., 0., 0., 0., 0., 0., 0.],\n",
       "       [0., 0., 0., 0., 0., 0., 0., 0., 0., 0.]])"
      ]
     },
     "execution_count": 6,
     "metadata": {},
     "output_type": "execute_result"
    }
   ],
   "source": [
    "b.dot(a).dot(c.T).reshape(2,-1)"
   ]
  },
  {
   "cell_type": "code",
   "execution_count": 7,
   "id": "02906433-8f01-46bf-aee8-7fd22d22524a",
   "metadata": {},
   "outputs": [
    {
     "data": {
      "text/plain": [
       "array([[7, 7, 7, 7, 7, 7, 7, 7, 7, 7, 7, 7]])"
      ]
     },
     "execution_count": 7,
     "metadata": {},
     "output_type": "execute_result"
    }
   ],
   "source": [
    "c.reshape(1,4*3)"
   ]
  },
  {
   "cell_type": "code",
   "execution_count": 8,
   "id": "20f1de5f-a9ec-49c7-9470-4a06ed3d448c",
   "metadata": {},
   "outputs": [],
   "source": [
    "m = np.matrix([\n",
    "    [1,2,3],\n",
    "    [7,5,9],\n",
    "    [12,-1,0]\n",
    "])"
   ]
  },
  {
   "cell_type": "code",
   "execution_count": 9,
   "id": "a19cad74-fa09-4dac-b86a-586dae931c63",
   "metadata": {},
   "outputs": [
    {
     "data": {
      "text/plain": [
       "matrix([[ 1,  7, 12],\n",
       "        [ 2,  5, -1],\n",
       "        [ 3,  9,  0]])"
      ]
     },
     "execution_count": 9,
     "metadata": {},
     "output_type": "execute_result"
    }
   ],
   "source": [
    "np.rollaxis(m,1)"
   ]
  },
  {
   "cell_type": "code",
   "execution_count": 10,
   "id": "12ae1482-ac39-4a2c-9d68-fe5d97f369ee",
   "metadata": {},
   "outputs": [
    {
     "data": {
      "text/plain": [
       "matrix([[ 1,  2,  3,  7,  7,  7,  7],\n",
       "        [ 7,  5,  9,  7,  7,  7,  7],\n",
       "        [12, -1,  0,  7,  7,  7,  7]])"
      ]
     },
     "execution_count": 10,
     "metadata": {},
     "output_type": "execute_result"
    }
   ],
   "source": [
    "np.concatenate((m,c.reshape(3,-1)),axis=1)"
   ]
  },
  {
   "cell_type": "code",
   "execution_count": 11,
   "id": "682f2de4-359f-446b-b8cd-8bb634e0fa9d",
   "metadata": {},
   "outputs": [
    {
     "data": {
      "text/plain": [
       "[matrix([[ 1],\n",
       "         [ 7],\n",
       "         [12]]),\n",
       " matrix([[ 2],\n",
       "         [ 5],\n",
       "         [-1]]),\n",
       " matrix([[3],\n",
       "         [9],\n",
       "         [0]]),\n",
       " matrix([[7],\n",
       "         [7],\n",
       "         [7]]),\n",
       " matrix([[7],\n",
       "         [7],\n",
       "         [7]]),\n",
       " matrix([[7],\n",
       "         [7],\n",
       "         [7]]),\n",
       " matrix([[7],\n",
       "         [7],\n",
       "         [7]])]"
      ]
     },
     "execution_count": 11,
     "metadata": {},
     "output_type": "execute_result"
    }
   ],
   "source": [
    "np.split(np.concatenate((m,c.reshape(3,-1)),axis=1),7,axis=1)"
   ]
  },
  {
   "cell_type": "code",
   "execution_count": 12,
   "id": "2095bc8f-ccd3-4ad4-91a8-c57bfacf655d",
   "metadata": {},
   "outputs": [
    {
     "data": {
      "text/plain": [
       "(array([7]), array([12], dtype=int64))"
      ]
     },
     "execution_count": 12,
     "metadata": {},
     "output_type": "execute_result"
    }
   ],
   "source": [
    "np.unique(c,return_counts=True)"
   ]
  },
  {
   "cell_type": "code",
   "execution_count": 13,
   "id": "8d4e3424-c795-4d86-8ac5-d28a6044418a",
   "metadata": {},
   "outputs": [
    {
     "data": {
      "text/plain": [
       "matrix([[ 0, -1, 12],\n",
       "        [ 9,  5,  7],\n",
       "        [ 3,  2,  1]])"
      ]
     },
     "execution_count": 13,
     "metadata": {},
     "output_type": "execute_result"
    }
   ],
   "source": [
    "np.flip(m,axis=[1,0])"
   ]
  },
  {
   "cell_type": "code",
   "execution_count": 14,
   "id": "af3d3a01-ba69-4e32-bf1e-776fa9a9ed5a",
   "metadata": {},
   "outputs": [
    {
     "data": {
      "text/plain": [
       "array([ 1,  2,  3,  7,  5,  9, 12, -1,  0])"
      ]
     },
     "execution_count": 14,
     "metadata": {},
     "output_type": "execute_result"
    }
   ],
   "source": [
    "np.ravel(m)"
   ]
  },
  {
   "cell_type": "code",
   "execution_count": 15,
   "id": "beb497aa-7aec-4c09-b49d-a70b008d08d3",
   "metadata": {},
   "outputs": [
    {
     "data": {
      "text/plain": [
       "matrix([[-7,  1, -7,  2, -7,  3],\n",
       "        [-7,  7, -7,  5, -7,  9],\n",
       "        [-7, 12, -7, -1, -7,  0]])"
      ]
     },
     "execution_count": 15,
     "metadata": {},
     "output_type": "execute_result"
    }
   ],
   "source": [
    "np.insert(m,obj=[0,1,2],values=[-7,-7,-7],axis=1)"
   ]
  },
  {
   "cell_type": "markdown",
   "id": "dee5956c-febc-4f2a-ac0e-04d04c8c9a66",
   "metadata": {},
   "source": [
    "### Strings and datetime"
   ]
  },
  {
   "cell_type": "code",
   "execution_count": null,
   "id": "20a55b9e-03d1-4934-878c-af6665372185",
   "metadata": {},
   "outputs": [],
   "source": []
  }
 ],
 "metadata": {
  "kernelspec": {
   "display_name": "Python 3",
   "language": "python",
   "name": "python3"
  },
  "language_info": {
   "codemirror_mode": {
    "name": "ipython",
    "version": 3
   },
   "file_extension": ".py",
   "mimetype": "text/x-python",
   "name": "python",
   "nbconvert_exporter": "python",
   "pygments_lexer": "ipython3",
   "version": "3.9.4"
  }
 },
 "nbformat": 4,
 "nbformat_minor": 5
}
